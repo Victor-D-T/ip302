{
 "cells": [
  {
   "cell_type": "code",
   "execution_count": 2,
   "id": "ee106afc",
   "metadata": {},
   "outputs": [],
   "source": [
    "import os\n",
    "import sys\n",
    "\n",
    "import pandas as pd\n",
    "import numpy as np\n",
    "import matplotlib.pyplot as plt\n",
    "from collections import Counter\n",
    "\n",
    "from sklearn.model_selection import train_test_split\n",
    "from sklearn.tree import DecisionTreeClassifier\n",
    "from sklearn.ensemble import RandomForestClassifier\n",
    "from sklearn.dummy import DummyClassifier\n",
    "from sklearn.metrics import accuracy_score, recall_score, precision_score, f1_score, confusion_matrix, classification_report, roc_auc_score, plot_confusion_matrix, plot_roc_curve, plot_precision_recall_curve\n",
    "from xgboost import XGBClassifier\n",
    "\n",
    "module_path = os.path.abspath(os.path.join('..'))\n",
    "if module_path not in sys.path:\n",
    "    sys.path.append(module_path)\n",
    "from src.algorithm_eval import algorithm_eval\n",
    "from src.feature_importance_plot import feature_importance_plot\n",
    "from src.learning_curve_plot import learning_curve_plot\n",
    "from src.identify_missing_data import identify_missing_data\n",
    "\n",
    "import warnings\n",
    "warnings.filterwarnings('ignore')\n",
    "\n",
    "# Resource: https://www.justintodata.com/logistic-regression-example-in-python/\n"
   ]
  },
  {
   "cell_type": "markdown",
   "id": "1a91f3bb",
   "metadata": {},
   "source": [
    "### Read and Explore the Data"
   ]
  },
  {
   "cell_type": "code",
   "execution_count": 3,
   "id": "541adf2d",
   "metadata": {},
   "outputs": [
    {
     "data": {
      "text/html": [
       "<div>\n",
       "<style scoped>\n",
       "    .dataframe tbody tr th:only-of-type {\n",
       "        vertical-align: middle;\n",
       "    }\n",
       "\n",
       "    .dataframe tbody tr th {\n",
       "        vertical-align: top;\n",
       "    }\n",
       "\n",
       "    .dataframe thead th {\n",
       "        text-align: right;\n",
       "    }\n",
       "</style>\n",
       "<table border=\"1\" class=\"dataframe\">\n",
       "  <thead>\n",
       "    <tr style=\"text-align: right;\">\n",
       "      <th></th>\n",
       "      <th>age</th>\n",
       "      <th>sex</th>\n",
       "      <th>cp</th>\n",
       "      <th>trestbps</th>\n",
       "      <th>chol</th>\n",
       "      <th>fbs</th>\n",
       "      <th>restecg</th>\n",
       "      <th>thalach</th>\n",
       "      <th>exang</th>\n",
       "      <th>oldpeak</th>\n",
       "      <th>slope</th>\n",
       "      <th>ca</th>\n",
       "      <th>thal</th>\n",
       "      <th>target</th>\n",
       "    </tr>\n",
       "  </thead>\n",
       "  <tbody>\n",
       "    <tr>\n",
       "      <th>0</th>\n",
       "      <td>28</td>\n",
       "      <td>1</td>\n",
       "      <td>2</td>\n",
       "      <td>130.0</td>\n",
       "      <td>132.0</td>\n",
       "      <td>0.0</td>\n",
       "      <td>2.0</td>\n",
       "      <td>185.0</td>\n",
       "      <td>0.0</td>\n",
       "      <td>0.0</td>\n",
       "      <td>NaN</td>\n",
       "      <td>NaN</td>\n",
       "      <td>NaN</td>\n",
       "      <td>0</td>\n",
       "    </tr>\n",
       "    <tr>\n",
       "      <th>1</th>\n",
       "      <td>29</td>\n",
       "      <td>1</td>\n",
       "      <td>2</td>\n",
       "      <td>120.0</td>\n",
       "      <td>243.0</td>\n",
       "      <td>0.0</td>\n",
       "      <td>0.0</td>\n",
       "      <td>160.0</td>\n",
       "      <td>0.0</td>\n",
       "      <td>0.0</td>\n",
       "      <td>NaN</td>\n",
       "      <td>NaN</td>\n",
       "      <td>NaN</td>\n",
       "      <td>0</td>\n",
       "    </tr>\n",
       "    <tr>\n",
       "      <th>2</th>\n",
       "      <td>29</td>\n",
       "      <td>1</td>\n",
       "      <td>2</td>\n",
       "      <td>140.0</td>\n",
       "      <td>NaN</td>\n",
       "      <td>0.0</td>\n",
       "      <td>0.0</td>\n",
       "      <td>170.0</td>\n",
       "      <td>0.0</td>\n",
       "      <td>0.0</td>\n",
       "      <td>NaN</td>\n",
       "      <td>NaN</td>\n",
       "      <td>NaN</td>\n",
       "      <td>0</td>\n",
       "    </tr>\n",
       "    <tr>\n",
       "      <th>3</th>\n",
       "      <td>30</td>\n",
       "      <td>0</td>\n",
       "      <td>1</td>\n",
       "      <td>170.0</td>\n",
       "      <td>237.0</td>\n",
       "      <td>0.0</td>\n",
       "      <td>1.0</td>\n",
       "      <td>170.0</td>\n",
       "      <td>0.0</td>\n",
       "      <td>0.0</td>\n",
       "      <td>NaN</td>\n",
       "      <td>NaN</td>\n",
       "      <td>6.0</td>\n",
       "      <td>0</td>\n",
       "    </tr>\n",
       "    <tr>\n",
       "      <th>4</th>\n",
       "      <td>31</td>\n",
       "      <td>0</td>\n",
       "      <td>2</td>\n",
       "      <td>100.0</td>\n",
       "      <td>219.0</td>\n",
       "      <td>0.0</td>\n",
       "      <td>1.0</td>\n",
       "      <td>150.0</td>\n",
       "      <td>0.0</td>\n",
       "      <td>0.0</td>\n",
       "      <td>NaN</td>\n",
       "      <td>NaN</td>\n",
       "      <td>NaN</td>\n",
       "      <td>0</td>\n",
       "    </tr>\n",
       "  </tbody>\n",
       "</table>\n",
       "</div>"
      ],
      "text/plain": [
       "   age  sex  cp  trestbps   chol  fbs  restecg  thalach  exang  oldpeak  \\\n",
       "0   28    1   2     130.0  132.0  0.0      2.0    185.0    0.0      0.0   \n",
       "1   29    1   2     120.0  243.0  0.0      0.0    160.0    0.0      0.0   \n",
       "2   29    1   2     140.0    NaN  0.0      0.0    170.0    0.0      0.0   \n",
       "3   30    0   1     170.0  237.0  0.0      1.0    170.0    0.0      0.0   \n",
       "4   31    0   2     100.0  219.0  0.0      1.0    150.0    0.0      0.0   \n",
       "\n",
       "   slope  ca  thal  target  \n",
       "0    NaN NaN   NaN       0  \n",
       "1    NaN NaN   NaN       0  \n",
       "2    NaN NaN   NaN       0  \n",
       "3    NaN NaN   6.0       0  \n",
       "4    NaN NaN   NaN       0  "
      ]
     },
     "execution_count": 3,
     "metadata": {},
     "output_type": "execute_result"
    }
   ],
   "source": [
    "# read the data\n",
    "\n",
    "df = pd.read_csv('../data/heart_attack_data.csv')\n",
    "\n",
    "# preview the data\n",
    "\n",
    "df.head()"
   ]
  },
  {
   "cell_type": "code",
   "execution_count": 4,
   "id": "9f0bdd55",
   "metadata": {},
   "outputs": [
    {
     "data": {
      "text/plain": [
       "(294, 14)"
      ]
     },
     "execution_count": 4,
     "metadata": {},
     "output_type": "execute_result"
    }
   ],
   "source": [
    "# check the shape of the data\n",
    "\n",
    "df.shape\n",
    "\n",
    "# we have 294 rows of data, and 14 potential features."
   ]
  },
  {
   "cell_type": "code",
   "execution_count": 5,
   "id": "373aed4d",
   "metadata": {},
   "outputs": [
    {
     "name": "stdout",
     "output_type": "stream",
     "text": [
      "<class 'pandas.core.frame.DataFrame'>\n",
      "RangeIndex: 294 entries, 0 to 293\n",
      "Data columns (total 14 columns):\n",
      " #   Column    Non-Null Count  Dtype  \n",
      "---  ------    --------------  -----  \n",
      " 0   age       294 non-null    int64  \n",
      " 1   sex       294 non-null    int64  \n",
      " 2   cp        294 non-null    int64  \n",
      " 3   trestbps  293 non-null    float64\n",
      " 4   chol      271 non-null    float64\n",
      " 5   fbs       286 non-null    float64\n",
      " 6   restecg   293 non-null    float64\n",
      " 7   thalach   293 non-null    float64\n",
      " 8   exang     293 non-null    float64\n",
      " 9   oldpeak   294 non-null    float64\n",
      " 10  slope     104 non-null    float64\n",
      " 11  ca        3 non-null      float64\n",
      " 12  thal      28 non-null     float64\n",
      " 13  target    294 non-null    int64  \n",
      "dtypes: float64(10), int64(4)\n",
      "memory usage: 32.3 KB\n"
     ]
    }
   ],
   "source": [
    "# check the summary information of the data\n",
    "# do we have any categorical data that needs processing?\n",
    "\n",
    "df.info()"
   ]
  },
  {
   "cell_type": "code",
   "execution_count": 6,
   "id": "0e899136",
   "metadata": {},
   "outputs": [
    {
     "data": {
      "text/plain": [
       "0    0.639456\n",
       "1    0.360544\n",
       "Name: target, dtype: float64"
      ]
     },
     "execution_count": 6,
     "metadata": {},
     "output_type": "execute_result"
    }
   ],
   "source": [
    "# check the distribution of the target\n",
    "\n",
    "df.target.value_counts(dropna = True, normalize = True)\n",
    "\n",
    "# The data is slightly imbalanced, with only 12% of users having churned - will oversample the data"
   ]
  },
  {
   "cell_type": "code",
   "execution_count": 7,
   "id": "937078cd",
   "metadata": {},
   "outputs": [
    {
     "data": {
      "text/plain": [
       "0    0.639456\n",
       "1    0.360544\n",
       "Name: target, dtype: float64"
      ]
     },
     "execution_count": 7,
     "metadata": {},
     "output_type": "execute_result"
    }
   ],
   "source": [
    "df.target.value_counts(normalize = True)"
   ]
  },
  {
   "cell_type": "code",
   "execution_count": 8,
   "id": "63178fe2",
   "metadata": {},
   "outputs": [
    {
     "data": {
      "image/png": "[encoded data removed]",
      "text/plain": [
       "<Figure size 432x288 with 1 Axes>"
      ]
     },
     "metadata": {
      "needs_background": "light"
     },
     "output_type": "display_data"
    }
   ],
   "source": [
    "# visualise the distribution of the target\n",
    "\n",
    "df.target.value_counts(dropna = True).plot(kind = 'bar')\n",
    "plt.title(\"Distribution of the target variable\");\n",
    "\n",
    "# question: does the distribution look equal to you? \n",
    "# example of an imbalanced dataset"
   ]
  },
  {
   "cell_type": "markdown",
   "id": "b6a1436e",
   "metadata": {},
   "source": [
    "### Handle Missing Data"
   ]
  },
  {
   "cell_type": "code",
   "execution_count": 9,
   "id": "b6498f27",
   "metadata": {},
   "outputs": [
    {
     "data": {
      "text/html": [
       "<div>\n",
       "<style scoped>\n",
       "    .dataframe tbody tr th:only-of-type {\n",
       "        vertical-align: middle;\n",
       "    }\n",
       "\n",
       "    .dataframe tbody tr th {\n",
       "        vertical-align: top;\n",
       "    }\n",
       "\n",
       "    .dataframe thead th {\n",
       "        text-align: right;\n",
       "    }\n",
       "</style>\n",
       "<table border=\"1\" class=\"dataframe\">\n",
       "  <thead>\n",
       "    <tr style=\"text-align: right;\">\n",
       "      <th></th>\n",
       "      <th>feature</th>\n",
       "      <th>percent_missing</th>\n",
       "    </tr>\n",
       "  </thead>\n",
       "  <tbody>\n",
       "    <tr>\n",
       "      <th>11</th>\n",
       "      <td>ca</td>\n",
       "      <td>0.989796</td>\n",
       "    </tr>\n",
       "    <tr>\n",
       "      <th>12</th>\n",
       "      <td>thal</td>\n",
       "      <td>0.904762</td>\n",
       "    </tr>\n",
       "    <tr>\n",
       "      <th>10</th>\n",
       "      <td>slope</td>\n",
       "      <td>0.646259</td>\n",
       "    </tr>\n",
       "    <tr>\n",
       "      <th>4</th>\n",
       "      <td>chol</td>\n",
       "      <td>0.078231</td>\n",
       "    </tr>\n",
       "    <tr>\n",
       "      <th>5</th>\n",
       "      <td>fbs</td>\n",
       "      <td>0.027211</td>\n",
       "    </tr>\n",
       "    <tr>\n",
       "      <th>3</th>\n",
       "      <td>trestbps</td>\n",
       "      <td>0.003401</td>\n",
       "    </tr>\n",
       "    <tr>\n",
       "      <th>6</th>\n",
       "      <td>restecg</td>\n",
       "      <td>0.003401</td>\n",
       "    </tr>\n",
       "    <tr>\n",
       "      <th>7</th>\n",
       "      <td>thalach</td>\n",
       "      <td>0.003401</td>\n",
       "    </tr>\n",
       "    <tr>\n",
       "      <th>8</th>\n",
       "      <td>exang</td>\n",
       "      <td>0.003401</td>\n",
       "    </tr>\n",
       "    <tr>\n",
       "      <th>0</th>\n",
       "      <td>age</td>\n",
       "      <td>0.000000</td>\n",
       "    </tr>\n",
       "    <tr>\n",
       "      <th>1</th>\n",
       "      <td>sex</td>\n",
       "      <td>0.000000</td>\n",
       "    </tr>\n",
       "    <tr>\n",
       "      <th>2</th>\n",
       "      <td>cp</td>\n",
       "      <td>0.000000</td>\n",
       "    </tr>\n",
       "    <tr>\n",
       "      <th>9</th>\n",
       "      <td>oldpeak</td>\n",
       "      <td>0.000000</td>\n",
       "    </tr>\n",
       "    <tr>\n",
       "      <th>13</th>\n",
       "      <td>target</td>\n",
       "      <td>0.000000</td>\n",
       "    </tr>\n",
       "  </tbody>\n",
       "</table>\n",
       "</div>"
      ],
      "text/plain": [
       "     feature  percent_missing\n",
       "11        ca         0.989796\n",
       "12      thal         0.904762\n",
       "10     slope         0.646259\n",
       "4       chol         0.078231\n",
       "5        fbs         0.027211\n",
       "3   trestbps         0.003401\n",
       "6    restecg         0.003401\n",
       "7    thalach         0.003401\n",
       "8      exang         0.003401\n",
       "0        age         0.000000\n",
       "1        sex         0.000000\n",
       "2         cp         0.000000\n",
       "9    oldpeak         0.000000\n",
       "13    target         0.000000"
      ]
     },
     "execution_count": 9,
     "metadata": {},
     "output_type": "execute_result"
    }
   ],
   "source": [
    "missing_value_df = identify_missing_data(df)\n",
    "missing_value_df"
   ]
  },
  {
   "cell_type": "code",
   "execution_count": 10,
   "id": "fec28d85",
   "metadata": {},
   "outputs": [
    {
     "name": "stdout",
     "output_type": "stream",
     "text": [
      "number of columns to drop: 3\n",
      "['ca', 'thal', 'slope']\n"
     ]
    }
   ],
   "source": [
    "# drop features which have more than 40% missing values\n",
    "# identify features which have more than 40% missing data\n",
    "\n",
    "threshold = 0.4\n",
    "\n",
    "cols_to_drop = list(missing_value_df[missing_value_df.percent_missing > threshold].feature)\n",
    "print(\"number of columns to drop:\", len(cols_to_drop))\n",
    "print(cols_to_drop)"
   ]
  },
  {
   "cell_type": "code",
   "execution_count": 11,
   "id": "5004b539",
   "metadata": {},
   "outputs": [],
   "source": [
    "df.drop(cols_to_drop, axis = 1, inplace = True)"
   ]
  },
  {
   "cell_type": "code",
   "execution_count": 12,
   "id": "1b891ab0",
   "metadata": {},
   "outputs": [
    {
     "data": {
      "text/html": [
       "<div>\n",
       "<style scoped>\n",
       "    .dataframe tbody tr th:only-of-type {\n",
       "        vertical-align: middle;\n",
       "    }\n",
       "\n",
       "    .dataframe tbody tr th {\n",
       "        vertical-align: top;\n",
       "    }\n",
       "\n",
       "    .dataframe thead th {\n",
       "        text-align: right;\n",
       "    }\n",
       "</style>\n",
       "<table border=\"1\" class=\"dataframe\">\n",
       "  <thead>\n",
       "    <tr style=\"text-align: right;\">\n",
       "      <th></th>\n",
       "      <th>feature</th>\n",
       "      <th>percent_missing</th>\n",
       "    </tr>\n",
       "  </thead>\n",
       "  <tbody>\n",
       "    <tr>\n",
       "      <th>4</th>\n",
       "      <td>chol</td>\n",
       "      <td>0.078231</td>\n",
       "    </tr>\n",
       "    <tr>\n",
       "      <th>5</th>\n",
       "      <td>fbs</td>\n",
       "      <td>0.027211</td>\n",
       "    </tr>\n",
       "    <tr>\n",
       "      <th>3</th>\n",
       "      <td>trestbps</td>\n",
       "      <td>0.003401</td>\n",
       "    </tr>\n",
       "    <tr>\n",
       "      <th>6</th>\n",
       "      <td>restecg</td>\n",
       "      <td>0.003401</td>\n",
       "    </tr>\n",
       "    <tr>\n",
       "      <th>7</th>\n",
       "      <td>thalach</td>\n",
       "      <td>0.003401</td>\n",
       "    </tr>\n",
       "    <tr>\n",
       "      <th>8</th>\n",
       "      <td>exang</td>\n",
       "      <td>0.003401</td>\n",
       "    </tr>\n",
       "    <tr>\n",
       "      <th>0</th>\n",
       "      <td>age</td>\n",
       "      <td>0.000000</td>\n",
       "    </tr>\n",
       "    <tr>\n",
       "      <th>1</th>\n",
       "      <td>sex</td>\n",
       "      <td>0.000000</td>\n",
       "    </tr>\n",
       "    <tr>\n",
       "      <th>2</th>\n",
       "      <td>cp</td>\n",
       "      <td>0.000000</td>\n",
       "    </tr>\n",
       "    <tr>\n",
       "      <th>9</th>\n",
       "      <td>oldpeak</td>\n",
       "      <td>0.000000</td>\n",
       "    </tr>\n",
       "    <tr>\n",
       "      <th>10</th>\n",
       "      <td>target</td>\n",
       "      <td>0.000000</td>\n",
       "    </tr>\n",
       "  </tbody>\n",
       "</table>\n",
       "</div>"
      ],
      "text/plain": [
       "     feature  percent_missing\n",
       "4       chol         0.078231\n",
       "5        fbs         0.027211\n",
       "3   trestbps         0.003401\n",
       "6    restecg         0.003401\n",
       "7    thalach         0.003401\n",
       "8      exang         0.003401\n",
       "0        age         0.000000\n",
       "1        sex         0.000000\n",
       "2         cp         0.000000\n",
       "9    oldpeak         0.000000\n",
       "10    target         0.000000"
      ]
     },
     "execution_count": 12,
     "metadata": {},
     "output_type": "execute_result"
    }
   ],
   "source": [
    "# check the columns were dropped\n",
    "\n",
    "missing_value_df = identify_missing_data(df)\n",
    "missing_value_df"
   ]
  },
  {
   "cell_type": "code",
   "execution_count": 13,
   "id": "8b2ba548",
   "metadata": {},
   "outputs": [],
   "source": [
    "# fill the remaining features with missing values with 0\n",
    "\n",
    "df.chol.fillna(0, inplace = True)\n",
    "df.fbs.fillna(0, inplace = True)\n",
    "df.trestbps.fillna(0, inplace = True)\n",
    "df.restecg.fillna(0, inplace = True)\n",
    "df.exang.fillna(0, inplace = True)\n",
    "df.thalach.fillna(0, inplace = True)\n"
   ]
  },
  {
   "cell_type": "code",
   "execution_count": 14,
   "id": "bed638f3",
   "metadata": {},
   "outputs": [
    {
     "data": {
      "text/html": [
       "<div>\n",
       "<style scoped>\n",
       "    .dataframe tbody tr th:only-of-type {\n",
       "        vertical-align: middle;\n",
       "    }\n",
       "\n",
       "    .dataframe tbody tr th {\n",
       "        vertical-align: top;\n",
       "    }\n",
       "\n",
       "    .dataframe thead th {\n",
       "        text-align: right;\n",
       "    }\n",
       "</style>\n",
       "<table border=\"1\" class=\"dataframe\">\n",
       "  <thead>\n",
       "    <tr style=\"text-align: right;\">\n",
       "      <th></th>\n",
       "      <th>feature</th>\n",
       "      <th>percent_missing</th>\n",
       "    </tr>\n",
       "  </thead>\n",
       "  <tbody>\n",
       "    <tr>\n",
       "      <th>0</th>\n",
       "      <td>age</td>\n",
       "      <td>0.0</td>\n",
       "    </tr>\n",
       "    <tr>\n",
       "      <th>1</th>\n",
       "      <td>sex</td>\n",
       "      <td>0.0</td>\n",
       "    </tr>\n",
       "    <tr>\n",
       "      <th>2</th>\n",
       "      <td>cp</td>\n",
       "      <td>0.0</td>\n",
       "    </tr>\n",
       "    <tr>\n",
       "      <th>3</th>\n",
       "      <td>trestbps</td>\n",
       "      <td>0.0</td>\n",
       "    </tr>\n",
       "    <tr>\n",
       "      <th>4</th>\n",
       "      <td>chol</td>\n",
       "      <td>0.0</td>\n",
       "    </tr>\n",
       "    <tr>\n",
       "      <th>5</th>\n",
       "      <td>fbs</td>\n",
       "      <td>0.0</td>\n",
       "    </tr>\n",
       "    <tr>\n",
       "      <th>6</th>\n",
       "      <td>restecg</td>\n",
       "      <td>0.0</td>\n",
       "    </tr>\n",
       "    <tr>\n",
       "      <th>7</th>\n",
       "      <td>thalach</td>\n",
       "      <td>0.0</td>\n",
       "    </tr>\n",
       "    <tr>\n",
       "      <th>8</th>\n",
       "      <td>exang</td>\n",
       "      <td>0.0</td>\n",
       "    </tr>\n",
       "    <tr>\n",
       "      <th>9</th>\n",
       "      <td>oldpeak</td>\n",
       "      <td>0.0</td>\n",
       "    </tr>\n",
       "    <tr>\n",
       "      <th>10</th>\n",
       "      <td>target</td>\n",
       "      <td>0.0</td>\n",
       "    </tr>\n",
       "  </tbody>\n",
       "</table>\n",
       "</div>"
      ],
      "text/plain": [
       "     feature  percent_missing\n",
       "0        age              0.0\n",
       "1        sex              0.0\n",
       "2         cp              0.0\n",
       "3   trestbps              0.0\n",
       "4       chol              0.0\n",
       "5        fbs              0.0\n",
       "6    restecg              0.0\n",
       "7    thalach              0.0\n",
       "8      exang              0.0\n",
       "9    oldpeak              0.0\n",
       "10    target              0.0"
      ]
     },
     "execution_count": 14,
     "metadata": {},
     "output_type": "execute_result"
    }
   ],
   "source": [
    "# check to see if we have any missing values that need handling\n",
    "\n",
    "missing_value_df = identify_missing_data(df)\n",
    "missing_value_df"
   ]
  },
  {
   "cell_type": "code",
   "execution_count": 15,
   "id": "e61c01af",
   "metadata": {},
   "outputs": [
    {
     "data": {
      "text/plain": [
       "(294, 11)"
      ]
     },
     "execution_count": 15,
     "metadata": {},
     "output_type": "execute_result"
    }
   ],
   "source": [
    "df.shape"
   ]
  },
  {
   "cell_type": "markdown",
   "id": "d799fe24",
   "metadata": {},
   "source": [
    "### Split the data into train and test"
   ]
  },
  {
   "cell_type": "code",
   "execution_count": 16,
   "id": "c84cf26c",
   "metadata": {},
   "outputs": [],
   "source": [
    "# define the target and features\n",
    "\n",
    "target = df[\"target\"]\n",
    "features = df.drop([\"target\"], axis = 1)\n"
   ]
  },
  {
   "cell_type": "code",
   "execution_count": 17,
   "id": "3026e120",
   "metadata": {},
   "outputs": [
    {
     "data": {
      "text/plain": [
       "(294,)"
      ]
     },
     "execution_count": 17,
     "metadata": {},
     "output_type": "execute_result"
    }
   ],
   "source": [
    "target.shape"
   ]
  },
  {
   "cell_type": "code",
   "execution_count": 18,
   "id": "9e446385",
   "metadata": {},
   "outputs": [
    {
     "data": {
      "text/plain": [
       "0      0\n",
       "1      0\n",
       "2      0\n",
       "3      0\n",
       "4      0\n",
       "      ..\n",
       "289    1\n",
       "290    1\n",
       "291    1\n",
       "292    1\n",
       "293    1\n",
       "Name: target, Length: 294, dtype: int64"
      ]
     },
     "execution_count": 18,
     "metadata": {},
     "output_type": "execute_result"
    }
   ],
   "source": [
    "target"
   ]
  },
  {
   "cell_type": "code",
   "execution_count": 19,
   "id": "e4b5f240",
   "metadata": {},
   "outputs": [
    {
     "data": {
      "text/plain": [
       "(294, 10)"
      ]
     },
     "execution_count": 19,
     "metadata": {},
     "output_type": "execute_result"
    }
   ],
   "source": [
    "features.shape"
   ]
  },
  {
   "cell_type": "code",
   "execution_count": 20,
   "id": "8102deaf",
   "metadata": {},
   "outputs": [
    {
     "data": {
      "text/html": [
       "<div>\n",
       "<style scoped>\n",
       "    .dataframe tbody tr th:only-of-type {\n",
       "        vertical-align: middle;\n",
       "    }\n",
       "\n",
       "    .dataframe tbody tr th {\n",
       "        vertical-align: top;\n",
       "    }\n",
       "\n",
       "    .dataframe thead th {\n",
       "        text-align: right;\n",
       "    }\n",
       "</style>\n",
       "<table border=\"1\" class=\"dataframe\">\n",
       "  <thead>\n",
       "    <tr style=\"text-align: right;\">\n",
       "      <th></th>\n",
       "      <th>age</th>\n",
       "      <th>sex</th>\n",
       "      <th>cp</th>\n",
       "      <th>trestbps</th>\n",
       "      <th>chol</th>\n",
       "      <th>fbs</th>\n",
       "      <th>restecg</th>\n",
       "      <th>thalach</th>\n",
       "      <th>exang</th>\n",
       "      <th>oldpeak</th>\n",
       "    </tr>\n",
       "  </thead>\n",
       "  <tbody>\n",
       "    <tr>\n",
       "      <th>0</th>\n",
       "      <td>28</td>\n",
       "      <td>1</td>\n",
       "      <td>2</td>\n",
       "      <td>130.0</td>\n",
       "      <td>132.0</td>\n",
       "      <td>0.0</td>\n",
       "      <td>2.0</td>\n",
       "      <td>185.0</td>\n",
       "      <td>0.0</td>\n",
       "      <td>0.0</td>\n",
       "    </tr>\n",
       "    <tr>\n",
       "      <th>1</th>\n",
       "      <td>29</td>\n",
       "      <td>1</td>\n",
       "      <td>2</td>\n",
       "      <td>120.0</td>\n",
       "      <td>243.0</td>\n",
       "      <td>0.0</td>\n",
       "      <td>0.0</td>\n",
       "      <td>160.0</td>\n",
       "      <td>0.0</td>\n",
       "      <td>0.0</td>\n",
       "    </tr>\n",
       "    <tr>\n",
       "      <th>2</th>\n",
       "      <td>29</td>\n",
       "      <td>1</td>\n",
       "      <td>2</td>\n",
       "      <td>140.0</td>\n",
       "      <td>0.0</td>\n",
       "      <td>0.0</td>\n",
       "      <td>0.0</td>\n",
       "      <td>170.0</td>\n",
       "      <td>0.0</td>\n",
       "      <td>0.0</td>\n",
       "    </tr>\n",
       "    <tr>\n",
       "      <th>3</th>\n",
       "      <td>30</td>\n",
       "      <td>0</td>\n",
       "      <td>1</td>\n",
       "      <td>170.0</td>\n",
       "      <td>237.0</td>\n",
       "      <td>0.0</td>\n",
       "      <td>1.0</td>\n",
       "      <td>170.0</td>\n",
       "      <td>0.0</td>\n",
       "      <td>0.0</td>\n",
       "    </tr>\n",
       "    <tr>\n",
       "      <th>4</th>\n",
       "      <td>31</td>\n",
       "      <td>0</td>\n",
       "      <td>2</td>\n",
       "      <td>100.0</td>\n",
       "      <td>219.0</td>\n",
       "      <td>0.0</td>\n",
       "      <td>1.0</td>\n",
       "      <td>150.0</td>\n",
       "      <td>0.0</td>\n",
       "      <td>0.0</td>\n",
       "    </tr>\n",
       "    <tr>\n",
       "      <th>...</th>\n",
       "      <td>...</td>\n",
       "      <td>...</td>\n",
       "      <td>...</td>\n",
       "      <td>...</td>\n",
       "      <td>...</td>\n",
       "      <td>...</td>\n",
       "      <td>...</td>\n",
       "      <td>...</td>\n",
       "      <td>...</td>\n",
       "      <td>...</td>\n",
       "    </tr>\n",
       "    <tr>\n",
       "      <th>289</th>\n",
       "      <td>52</td>\n",
       "      <td>1</td>\n",
       "      <td>4</td>\n",
       "      <td>160.0</td>\n",
       "      <td>331.0</td>\n",
       "      <td>0.0</td>\n",
       "      <td>0.0</td>\n",
       "      <td>94.0</td>\n",
       "      <td>1.0</td>\n",
       "      <td>2.5</td>\n",
       "    </tr>\n",
       "    <tr>\n",
       "      <th>290</th>\n",
       "      <td>54</td>\n",
       "      <td>0</td>\n",
       "      <td>3</td>\n",
       "      <td>130.0</td>\n",
       "      <td>294.0</td>\n",
       "      <td>0.0</td>\n",
       "      <td>1.0</td>\n",
       "      <td>100.0</td>\n",
       "      <td>1.0</td>\n",
       "      <td>0.0</td>\n",
       "    </tr>\n",
       "    <tr>\n",
       "      <th>291</th>\n",
       "      <td>56</td>\n",
       "      <td>1</td>\n",
       "      <td>4</td>\n",
       "      <td>155.0</td>\n",
       "      <td>342.0</td>\n",
       "      <td>1.0</td>\n",
       "      <td>0.0</td>\n",
       "      <td>150.0</td>\n",
       "      <td>1.0</td>\n",
       "      <td>3.0</td>\n",
       "    </tr>\n",
       "    <tr>\n",
       "      <th>292</th>\n",
       "      <td>58</td>\n",
       "      <td>0</td>\n",
       "      <td>2</td>\n",
       "      <td>180.0</td>\n",
       "      <td>393.0</td>\n",
       "      <td>0.0</td>\n",
       "      <td>0.0</td>\n",
       "      <td>110.0</td>\n",
       "      <td>1.0</td>\n",
       "      <td>1.0</td>\n",
       "    </tr>\n",
       "    <tr>\n",
       "      <th>293</th>\n",
       "      <td>65</td>\n",
       "      <td>1</td>\n",
       "      <td>4</td>\n",
       "      <td>130.0</td>\n",
       "      <td>275.0</td>\n",
       "      <td>0.0</td>\n",
       "      <td>1.0</td>\n",
       "      <td>115.0</td>\n",
       "      <td>1.0</td>\n",
       "      <td>1.0</td>\n",
       "    </tr>\n",
       "  </tbody>\n",
       "</table>\n",
       "<p>294 rows × 10 columns</p>\n",
       "</div>"
      ],
      "text/plain": [
       "     age  sex  cp  trestbps   chol  fbs  restecg  thalach  exang  oldpeak\n",
       "0     28    1   2     130.0  132.0  0.0      2.0    185.0    0.0      0.0\n",
       "1     29    1   2     120.0  243.0  0.0      0.0    160.0    0.0      0.0\n",
       "2     29    1   2     140.0    0.0  0.0      0.0    170.0    0.0      0.0\n",
       "3     30    0   1     170.0  237.0  0.0      1.0    170.0    0.0      0.0\n",
       "4     31    0   2     100.0  219.0  0.0      1.0    150.0    0.0      0.0\n",
       "..   ...  ...  ..       ...    ...  ...      ...      ...    ...      ...\n",
       "289   52    1   4     160.0  331.0  0.0      0.0     94.0    1.0      2.5\n",
       "290   54    0   3     130.0  294.0  0.0      1.0    100.0    1.0      0.0\n",
       "291   56    1   4     155.0  342.0  1.0      0.0    150.0    1.0      3.0\n",
       "292   58    0   2     180.0  393.0  0.0      0.0    110.0    1.0      1.0\n",
       "293   65    1   4     130.0  275.0  0.0      1.0    115.0    1.0      1.0\n",
       "\n",
       "[294 rows x 10 columns]"
      ]
     },
     "execution_count": 20,
     "metadata": {},
     "output_type": "execute_result"
    }
   ],
   "source": [
    "features"
   ]
  },
  {
   "cell_type": "code",
   "execution_count": 21,
   "id": "95e080f8",
   "metadata": {},
   "outputs": [],
   "source": [
    "# split the data into train and test set\n",
    "# because the dataset is imbalanced we can use stratify\n",
    "\n",
    "X_train, X_test, y_train, y_test = train_test_split(\n",
    "                                                features, \n",
    "                                                target,\n",
    "                                                test_size = 0.2, \n",
    "                                                random_state = 8888)\n",
    "\n"
   ]
  },
  {
   "cell_type": "code",
   "execution_count": 22,
   "id": "50a85f13",
   "metadata": {},
   "outputs": [
    {
     "name": "stdout",
     "output_type": "stream",
     "text": [
      "Training Data\n",
      "Shape of X_train (235, 10)\n",
      "Shape of y_train (235,)\n",
      "Distribution of target: Counter({0: 148, 1: 87})\n"
     ]
    }
   ],
   "source": [
    "# print the shape of the training data\n",
    "\n",
    "print(\"Training Data\")\n",
    "print(\"Shape of X_train\", X_train.shape)\n",
    "print(\"Shape of y_train\", y_train.shape)\n",
    "print(\"Distribution of target:\", Counter(y_train))"
   ]
  },
  {
   "cell_type": "code",
   "execution_count": 23,
   "id": "578991b8",
   "metadata": {},
   "outputs": [
    {
     "name": "stdout",
     "output_type": "stream",
     "text": [
      "Test Data\n",
      "Shape of X_test (59, 10)\n",
      "Shape of y_test (59,)\n",
      "Distribution of target: Counter({0: 40, 1: 19})\n"
     ]
    }
   ],
   "source": [
    "# print the shape of the test data \n",
    "\n",
    "print(\"Test Data\")\n",
    "print(\"Shape of X_test\", X_test.shape)\n",
    "print(\"Shape of y_test\", y_test.shape)\n",
    "print(\"Distribution of target:\", Counter(y_test))"
   ]
  },
  {
   "cell_type": "code",
   "execution_count": 24,
   "id": "fe8d0646",
   "metadata": {},
   "outputs": [
    {
     "data": {
      "text/html": [
       "<div>\n",
       "<style scoped>\n",
       "    .dataframe tbody tr th:only-of-type {\n",
       "        vertical-align: middle;\n",
       "    }\n",
       "\n",
       "    .dataframe tbody tr th {\n",
       "        vertical-align: top;\n",
       "    }\n",
       "\n",
       "    .dataframe thead th {\n",
       "        text-align: right;\n",
       "    }\n",
       "</style>\n",
       "<table border=\"1\" class=\"dataframe\">\n",
       "  <thead>\n",
       "    <tr style=\"text-align: right;\">\n",
       "      <th></th>\n",
       "      <th>age</th>\n",
       "      <th>sex</th>\n",
       "      <th>cp</th>\n",
       "      <th>trestbps</th>\n",
       "      <th>chol</th>\n",
       "      <th>fbs</th>\n",
       "      <th>restecg</th>\n",
       "      <th>thalach</th>\n",
       "      <th>exang</th>\n",
       "      <th>oldpeak</th>\n",
       "    </tr>\n",
       "  </thead>\n",
       "  <tbody>\n",
       "    <tr>\n",
       "      <th>265</th>\n",
       "      <td>53</td>\n",
       "      <td>1</td>\n",
       "      <td>3</td>\n",
       "      <td>145.0</td>\n",
       "      <td>518.0</td>\n",
       "      <td>0.0</td>\n",
       "      <td>0.0</td>\n",
       "      <td>130.0</td>\n",
       "      <td>0.0</td>\n",
       "      <td>0.0</td>\n",
       "    </tr>\n",
       "    <tr>\n",
       "      <th>200</th>\n",
       "      <td>43</td>\n",
       "      <td>1</td>\n",
       "      <td>4</td>\n",
       "      <td>150.0</td>\n",
       "      <td>247.0</td>\n",
       "      <td>0.0</td>\n",
       "      <td>0.0</td>\n",
       "      <td>130.0</td>\n",
       "      <td>1.0</td>\n",
       "      <td>2.0</td>\n",
       "    </tr>\n",
       "    <tr>\n",
       "      <th>48</th>\n",
       "      <td>41</td>\n",
       "      <td>1</td>\n",
       "      <td>2</td>\n",
       "      <td>120.0</td>\n",
       "      <td>291.0</td>\n",
       "      <td>0.0</td>\n",
       "      <td>1.0</td>\n",
       "      <td>160.0</td>\n",
       "      <td>0.0</td>\n",
       "      <td>0.0</td>\n",
       "    </tr>\n",
       "    <tr>\n",
       "      <th>16</th>\n",
       "      <td>36</td>\n",
       "      <td>1</td>\n",
       "      <td>2</td>\n",
       "      <td>120.0</td>\n",
       "      <td>166.0</td>\n",
       "      <td>0.0</td>\n",
       "      <td>0.0</td>\n",
       "      <td>180.0</td>\n",
       "      <td>0.0</td>\n",
       "      <td>0.0</td>\n",
       "    </tr>\n",
       "    <tr>\n",
       "      <th>132</th>\n",
       "      <td>53</td>\n",
       "      <td>0</td>\n",
       "      <td>2</td>\n",
       "      <td>140.0</td>\n",
       "      <td>216.0</td>\n",
       "      <td>0.0</td>\n",
       "      <td>0.0</td>\n",
       "      <td>142.0</td>\n",
       "      <td>1.0</td>\n",
       "      <td>2.0</td>\n",
       "    </tr>\n",
       "  </tbody>\n",
       "</table>\n",
       "</div>"
      ],
      "text/plain": [
       "     age  sex  cp  trestbps   chol  fbs  restecg  thalach  exang  oldpeak\n",
       "265   53    1   3     145.0  518.0  0.0      0.0    130.0    0.0      0.0\n",
       "200   43    1   4     150.0  247.0  0.0      0.0    130.0    1.0      2.0\n",
       "48    41    1   2     120.0  291.0  0.0      1.0    160.0    0.0      0.0\n",
       "16    36    1   2     120.0  166.0  0.0      0.0    180.0    0.0      0.0\n",
       "132   53    0   2     140.0  216.0  0.0      0.0    142.0    1.0      2.0"
      ]
     },
     "execution_count": 24,
     "metadata": {},
     "output_type": "execute_result"
    }
   ],
   "source": [
    "X_train.head()"
   ]
  },
  {
   "cell_type": "markdown",
   "id": "88de96ad",
   "metadata": {},
   "source": [
    "### Model Selection"
   ]
  },
  {
   "cell_type": "code",
   "execution_count": 25,
   "id": "1ee45579",
   "metadata": {},
   "outputs": [],
   "source": [
    "# model selection\n",
    "# list of models we want to evaluate\n",
    "\n",
    "models = []\n",
    "\n",
    "# using Dummy Classifier as a baseline algorithm\n",
    "models.append(('Dummy Classifier', DummyClassifier(strategy = 'stratified')))\n",
    "\n",
    "# Decision Tree\n",
    "models.append(('Decision Tree', DecisionTreeClassifier()))\n",
    "\n",
    "# Random Forest model\n",
    "models.append(('Random Forest', RandomForestClassifier()))\n",
    "\n",
    "# XGBoost\n",
    "models.append(('XGBoost', XGBClassifier(eval_metric='logloss')))"
   ]
  },
  {
   "cell_type": "code",
   "execution_count": 26,
   "id": "adc646ce",
   "metadata": {},
   "outputs": [
    {
     "name": "stdout",
     "output_type": "stream",
     "text": [
      "Model results using no sampling techniques\n",
      "--------------------------------------------------\n",
      "Dummy Classifier Accuracy: 0.51064 (+/- 0.06861)\n",
      "Dummy Classifier F1-Score: 0.48414 (+/- 0.03052)\n",
      "--------------------------------------------------\n",
      "--------------------------------------------------\n",
      "Decision Tree Accuracy: 0.71915 (+/- 0.03661)\n",
      "Decision Tree F1-Score: 0.72429 (+/- 0.0593)\n",
      "--------------------------------------------------\n",
      "--------------------------------------------------\n",
      "Random Forest Accuracy: 0.79574 (+/- 0.04381)\n",
      "Random Forest F1-Score: 0.80942 (+/- 0.01264)\n",
      "--------------------------------------------------\n",
      "--------------------------------------------------\n",
      "XGBoost Accuracy: 0.79574 (+/- 0.01702)\n",
      "XGBoost F1-Score: 0.79213 (+/- 0.01842)\n",
      "--------------------------------------------------\n"
     ]
    },
    {
     "data": {
      "image/png": "[encoded data removed]",
      "text/plain": [
       "<Figure size 720x432 with 1 Axes>"
      ]
     },
     "metadata": {
      "needs_background": "light"
     },
     "output_type": "display_data"
    }
   ],
   "source": [
    "# training every model on random samples of data (cross validation)\n",
    "\n",
    "scoring_df = []\n",
    "\n",
    "# scoring df for models with no sampling techniques\n",
    "print(\"Model results using no sampling techniques\")\n",
    "\n",
    "scoring_results = algorithm_eval(models, X_train, y_train)\n",
    "\n",
    "# look at the boxplots - which one has the largest variance in predictions? \n",
    "# these are examples of high variance = overfitted models"
   ]
  },
  {
   "cell_type": "code",
   "execution_count": 27,
   "id": "afae5e3a",
   "metadata": {},
   "outputs": [
    {
     "data": {
      "text/html": [
       "<div>\n",
       "<style scoped>\n",
       "    .dataframe tbody tr th:only-of-type {\n",
       "        vertical-align: middle;\n",
       "    }\n",
       "\n",
       "    .dataframe tbody tr th {\n",
       "        vertical-align: top;\n",
       "    }\n",
       "\n",
       "    .dataframe thead th {\n",
       "        text-align: right;\n",
       "    }\n",
       "</style>\n",
       "<table border=\"1\" class=\"dataframe\">\n",
       "  <thead>\n",
       "    <tr style=\"text-align: right;\">\n",
       "      <th></th>\n",
       "      <th>Model Name</th>\n",
       "      <th>Accuracy Mean</th>\n",
       "      <th>F1 Mean</th>\n",
       "      <th>Precision Mean</th>\n",
       "      <th>Recall Mean</th>\n",
       "    </tr>\n",
       "  </thead>\n",
       "  <tbody>\n",
       "    <tr>\n",
       "      <th>2</th>\n",
       "      <td>Random Forest</td>\n",
       "      <td>0.80</td>\n",
       "      <td>0.81</td>\n",
       "      <td>0.82</td>\n",
       "      <td>0.81</td>\n",
       "    </tr>\n",
       "    <tr>\n",
       "      <th>3</th>\n",
       "      <td>XGBoost</td>\n",
       "      <td>0.80</td>\n",
       "      <td>0.79</td>\n",
       "      <td>0.80</td>\n",
       "      <td>0.80</td>\n",
       "    </tr>\n",
       "    <tr>\n",
       "      <th>1</th>\n",
       "      <td>Decision Tree</td>\n",
       "      <td>0.72</td>\n",
       "      <td>0.72</td>\n",
       "      <td>0.72</td>\n",
       "      <td>0.75</td>\n",
       "    </tr>\n",
       "    <tr>\n",
       "      <th>0</th>\n",
       "      <td>Dummy Classifier</td>\n",
       "      <td>0.51</td>\n",
       "      <td>0.48</td>\n",
       "      <td>0.57</td>\n",
       "      <td>0.48</td>\n",
       "    </tr>\n",
       "  </tbody>\n",
       "</table>\n",
       "</div>"
      ],
      "text/plain": [
       "         Model Name  Accuracy Mean  F1 Mean  Precision Mean  Recall Mean\n",
       "2     Random Forest           0.80     0.81            0.82         0.81\n",
       "3           XGBoost           0.80     0.79            0.80         0.80\n",
       "1     Decision Tree           0.72     0.72            0.72         0.75\n",
       "0  Dummy Classifier           0.51     0.48            0.57         0.48"
      ]
     },
     "execution_count": 27,
     "metadata": {},
     "output_type": "execute_result"
    }
   ],
   "source": [
    "scoring_df = pd.DataFrame(scoring_results)\n",
    "scoring_df.sort_values(by = 'Accuracy Mean', ascending = False)"
   ]
  },
  {
   "cell_type": "markdown",
   "id": "ebd3db55",
   "metadata": {},
   "source": [
    "### Evaluating the \"Best Model\" in detail"
   ]
  },
  {
   "cell_type": "code",
   "execution_count": 28,
   "id": "95296236",
   "metadata": {},
   "outputs": [
    {
     "name": "stdout",
     "output_type": "stream",
     "text": [
      "Counter({0: 45, 1: 14})\n"
     ]
    }
   ],
   "source": [
    "# the best model is between Random Forest and XGBoost\n",
    "# XGBoost showing signs of less overfitting, but Random Forest has the highest average f1 score and recall \n",
    "# let's look at the best model in more detail\n",
    "\n",
    "best_model = RandomForestClassifier()\n",
    "best_model.fit(X_train, y_train)\n",
    "y_pred = best_model.predict(X_test)\n",
    "print(Counter(y_pred))"
   ]
  },
  {
   "cell_type": "code",
   "execution_count": 29,
   "id": "48fd7e82",
   "metadata": {},
   "outputs": [
    {
     "name": "stdout",
     "output_type": "stream",
     "text": [
      "first five predicted values: [0 1 0 1 0]\n",
      "first five actual values: [0, 1, 0, 0, 0]\n"
     ]
    }
   ],
   "source": [
    "print(\"first five predicted values:\", y_pred[0:5])\n",
    "print(\"first five actual values:\", list(y_test[0:5]))"
   ]
  },
  {
   "cell_type": "code",
   "execution_count": 30,
   "id": "f16079ce",
   "metadata": {},
   "outputs": [
    {
     "name": "stdout",
     "output_type": "stream",
     "text": [
      "accuracy: 0.81\n",
      "recall: 0.58\n",
      "precision: 0.79\n",
      "f1-score: 0.67\n"
     ]
    }
   ],
   "source": [
    "# evaluation metrics\n",
    "\n",
    "print(\"accuracy:\", round(accuracy_score(y_test, y_pred), 2))\n",
    "print(\"recall:\", round(recall_score(y_test, y_pred), 2))\n",
    "print(\"precision:\", round(precision_score(y_test, y_pred), 2))\n",
    "print(\"f1-score:\", round(f1_score(y_test, y_pred), 2))"
   ]
  },
  {
   "cell_type": "code",
   "execution_count": 31,
   "id": "b87db125",
   "metadata": {},
   "outputs": [
    {
     "name": "stdout",
     "output_type": "stream",
     "text": [
      "              precision    recall  f1-score   support\n",
      "\n",
      "           0       0.93      0.82      0.87        45\n",
      "           1       0.58      0.79      0.67        14\n",
      "\n",
      "    accuracy                           0.81        59\n",
      "   macro avg       0.75      0.80      0.77        59\n",
      "weighted avg       0.84      0.81      0.82        59\n",
      "\n"
     ]
    }
   ],
   "source": [
    "print(classification_report(y_pred, y_test))"
   ]
  },
  {
   "cell_type": "code",
   "execution_count": 32,
   "id": "b4f8e4be",
   "metadata": {},
   "outputs": [
    {
     "data": {
      "image/png": "[encoded data removed]",
      "text/plain": [
       "<Figure size 432x288 with 2 Axes>"
      ]
     },
     "metadata": {
      "needs_background": "light"
     },
     "output_type": "display_data"
    }
   ],
   "source": [
    "plot_confusion_matrix(best_model, \n",
    "                      X_test, \n",
    "                      y_test,\n",
    "                      cmap = plt.cm.Blues);"
   ]
  },
  {
   "cell_type": "code",
   "execution_count": 33,
   "id": "56832c17",
   "metadata": {},
   "outputs": [
    {
     "data": {
      "image/png": "[encoded data removed]",
      "text/plain": [
       "<Figure size 432x288 with 1 Axes>"
      ]
     },
     "metadata": {
      "needs_background": "light"
     },
     "output_type": "display_data"
    }
   ],
   "source": [
    "# handy sklearn function to plot Receiver operating characteristic (ROC) curve, with the area under the curve.\n",
    "\n",
    "plot_roc_curve(best_model,\n",
    "               X_test, \n",
    "               y_test);                    \n",
    "\n",
    "# AUC of 0.89; the higher the AUC, the better the performance of the model at distinguishing between the positive and negative classes."
   ]
  },
  {
   "cell_type": "markdown",
   "id": "1de252a6",
   "metadata": {},
   "source": [
    "### Feature Importance Plot"
   ]
  },
  {
   "cell_type": "code",
   "execution_count": 34,
   "id": "c7be874a",
   "metadata": {},
   "outputs": [
    {
     "data": {
      "image/png": "[encoded data removed]",
      "text/plain": [
       "<Figure size 576x360 with 1 Axes>"
      ]
     },
     "metadata": {
      "needs_background": "light"
     },
     "output_type": "display_data"
    }
   ],
   "source": [
    "feature_importance_plot(best_model, X_train, n = 5)\n",
    "\n",
    "# question: what is the most important feature?"
   ]
  },
  {
   "cell_type": "markdown",
   "id": "855ec41e",
   "metadata": {},
   "source": [
    "### Learning Curve"
   ]
  },
  {
   "cell_type": "code",
   "execution_count": 35,
   "id": "9f2b9814",
   "metadata": {},
   "outputs": [
    {
     "data": {
      "image/png": "[encoded data removed]",
      "text/plain": [
       "<Figure size 360x360 with 1 Axes>"
      ]
     },
     "metadata": {
      "needs_background": "light"
     },
     "output_type": "display_data"
    }
   ],
   "source": [
    "learning_curve_plot(best_model, X_train, y_train)\n",
    "\n",
    "# what does this plot mean? we will learn more about this in IP301. \n",
    "# However, very simply WE NEED MORE DATA!"
   ]
  },
  {
   "cell_type": "code",
   "execution_count": 36,
   "id": "7250db72",
   "metadata": {},
   "outputs": [],
   "source": [
    "# TASKS: \n",
    "# 1. Can you build an XGBoost Classification Model?\n",
    "# 2. Can you evaluate the XGBoost Model?\n",
    "# 3. Can you plot a feature important plot for the XGBoost Model?\n",
    "# 4. Can you plot a learning curve for the XGBoost Model?"
   ]
  },
  {
   "cell_type": "code",
   "execution_count": 37,
   "id": "016be3fe",
   "metadata": {},
   "outputs": [
    {
     "name": "stdout",
     "output_type": "stream",
     "text": [
      "Counter({0: 42, 1: 17})\n"
     ]
    }
   ],
   "source": [
    "# Build the model\n",
    "\n",
    "xgb = XGBClassifier(eval_metric='logloss')\n",
    "xgb.fit(X_train, y_train)\n",
    "y_pred_xgb = xgb.predict(X_test)\n",
    "print(Counter(y_pred_xgb))"
   ]
  },
  {
   "cell_type": "code",
   "execution_count": 38,
   "id": "0b3e2a5a",
   "metadata": {},
   "outputs": [
    {
     "name": "stdout",
     "output_type": "stream",
     "text": [
      "accuracy: 0.76\n",
      "recall: 0.58\n",
      "precision: 0.65\n",
      "f1-score: 0.61\n"
     ]
    }
   ],
   "source": [
    "# evaluation metrics\n",
    "\n",
    "print(\"accuracy:\", round(accuracy_score(y_test, y_pred_xgb), 2))\n",
    "print(\"recall:\", round(recall_score(y_test, y_pred_xgb), 2))\n",
    "print(\"precision:\", round(precision_score(y_test, y_pred_xgb), 2))\n",
    "print(\"f1-score:\", round(f1_score(y_test, y_pred_xgb), 2))"
   ]
  },
  {
   "cell_type": "code",
   "execution_count": 39,
   "id": "dd4dcdf0",
   "metadata": {},
   "outputs": [
    {
     "name": "stdout",
     "output_type": "stream",
     "text": [
      "first five predicted values: [0 1 0 1 0]\n",
      "first five actual values: [0, 1, 0, 0, 0]\n"
     ]
    }
   ],
   "source": [
    "print(\"first five predicted values:\", y_pred_xgb[0:5])\n",
    "print(\"first five actual values:\", list(y_test[0:5]))"
   ]
  },
  {
   "cell_type": "code",
   "execution_count": 40,
   "id": "b1e6c4c6",
   "metadata": {},
   "outputs": [
    {
     "data": {
      "image/png": "[encoded data removed]",
      "text/plain": [
       "<Figure size 432x288 with 2 Axes>"
      ]
     },
     "metadata": {
      "needs_background": "light"
     },
     "output_type": "display_data"
    }
   ],
   "source": [
    "plot_confusion_matrix(xgb, \n",
    "                      X_test, \n",
    "                      y_test,\n",
    "                      cmap = plt.cm.Blues);"
   ]
  },
  {
   "cell_type": "code",
   "execution_count": 41,
   "id": "4570839b",
   "metadata": {},
   "outputs": [
    {
     "data": {
      "image/png": "[encoded data removed]",
      "text/plain": [
       "<Figure size 432x288 with 1 Axes>"
      ]
     },
     "metadata": {
      "needs_background": "light"
     },
     "output_type": "display_data"
    }
   ],
   "source": [
    "plot_roc_curve(xgb,\n",
    "               X_test, \n",
    "               y_test);  "
   ]
  },
  {
   "cell_type": "code",
   "execution_count": 42,
   "id": "72a2ad8c",
   "metadata": {},
   "outputs": [
    {
     "data": {
      "image/png": "[encoded data removed]",
      "text/plain": [
       "<Figure size 576x360 with 1 Axes>"
      ]
     },
     "metadata": {
      "needs_background": "light"
     },
     "output_type": "display_data"
    }
   ],
   "source": [
    "# Feature Importance for the XGBClassifier\n",
    "\n",
    "feature_importance_plot(xgb, X_train, n = 5)\n",
    "\n",
    "# question: what is the most important feature?"
   ]
  },
  {
   "cell_type": "code",
   "execution_count": 43,
   "id": "38fb0845",
   "metadata": {},
   "outputs": [
    {
     "data": {
      "image/png": "[encoded data removed]",
      "text/plain": [
       "<Figure size 360x360 with 1 Axes>"
      ]
     },
     "metadata": {
      "needs_background": "light"
     },
     "output_type": "display_data"
    }
   ],
   "source": [
    "# Learning curve for the XGBClassifier\n",
    "\n",
    "learning_curve_plot(xgb, X_train, y_train)"
   ]
  },
  {
   "cell_type": "code",
   "execution_count": 44,
   "id": "70e43c0a",
   "metadata": {},
   "outputs": [
    {
     "data": {
      "text/html": [
       "<div>\n",
       "<style scoped>\n",
       "    .dataframe tbody tr th:only-of-type {\n",
       "        vertical-align: middle;\n",
       "    }\n",
       "\n",
       "    .dataframe tbody tr th {\n",
       "        vertical-align: top;\n",
       "    }\n",
       "\n",
       "    .dataframe thead th {\n",
       "        text-align: right;\n",
       "    }\n",
       "</style>\n",
       "<table border=\"1\" class=\"dataframe\">\n",
       "  <thead>\n",
       "    <tr style=\"text-align: right;\">\n",
       "      <th></th>\n",
       "      <th>MSSubClass</th>\n",
       "      <th>MSZoning</th>\n",
       "      <th>LotFrontage</th>\n",
       "      <th>LotArea</th>\n",
       "      <th>Street</th>\n",
       "      <th>Alley</th>\n",
       "      <th>LotShape</th>\n",
       "      <th>LandContour</th>\n",
       "      <th>Utilities</th>\n",
       "      <th>LotConfig</th>\n",
       "      <th>...</th>\n",
       "      <th>PoolArea</th>\n",
       "      <th>PoolQC</th>\n",
       "      <th>Fence</th>\n",
       "      <th>MiscFeature</th>\n",
       "      <th>MiscVal</th>\n",
       "      <th>MoSold</th>\n",
       "      <th>YrSold</th>\n",
       "      <th>SaleType</th>\n",
       "      <th>SaleCondition</th>\n",
       "      <th>target</th>\n",
       "    </tr>\n",
       "  </thead>\n",
       "  <tbody>\n",
       "    <tr>\n",
       "      <th>0</th>\n",
       "      <td>60.0</td>\n",
       "      <td>RL</td>\n",
       "      <td>65.0</td>\n",
       "      <td>8450.0</td>\n",
       "      <td>Pave</td>\n",
       "      <td>None</td>\n",
       "      <td>Reg</td>\n",
       "      <td>Lvl</td>\n",
       "      <td>AllPub</td>\n",
       "      <td>Inside</td>\n",
       "      <td>...</td>\n",
       "      <td>0.0</td>\n",
       "      <td>None</td>\n",
       "      <td>None</td>\n",
       "      <td>None</td>\n",
       "      <td>0.0</td>\n",
       "      <td>2.0</td>\n",
       "      <td>2008.0</td>\n",
       "      <td>WD</td>\n",
       "      <td>Normal</td>\n",
       "      <td>208500.0</td>\n",
       "    </tr>\n",
       "    <tr>\n",
       "      <th>1</th>\n",
       "      <td>20.0</td>\n",
       "      <td>RL</td>\n",
       "      <td>80.0</td>\n",
       "      <td>9600.0</td>\n",
       "      <td>Pave</td>\n",
       "      <td>None</td>\n",
       "      <td>Reg</td>\n",
       "      <td>Lvl</td>\n",
       "      <td>AllPub</td>\n",
       "      <td>FR2</td>\n",
       "      <td>...</td>\n",
       "      <td>0.0</td>\n",
       "      <td>None</td>\n",
       "      <td>None</td>\n",
       "      <td>None</td>\n",
       "      <td>0.0</td>\n",
       "      <td>5.0</td>\n",
       "      <td>2007.0</td>\n",
       "      <td>WD</td>\n",
       "      <td>Normal</td>\n",
       "      <td>181500.0</td>\n",
       "    </tr>\n",
       "    <tr>\n",
       "      <th>2</th>\n",
       "      <td>60.0</td>\n",
       "      <td>RL</td>\n",
       "      <td>68.0</td>\n",
       "      <td>11250.0</td>\n",
       "      <td>Pave</td>\n",
       "      <td>None</td>\n",
       "      <td>IR1</td>\n",
       "      <td>Lvl</td>\n",
       "      <td>AllPub</td>\n",
       "      <td>Inside</td>\n",
       "      <td>...</td>\n",
       "      <td>0.0</td>\n",
       "      <td>None</td>\n",
       "      <td>None</td>\n",
       "      <td>None</td>\n",
       "      <td>0.0</td>\n",
       "      <td>9.0</td>\n",
       "      <td>2008.0</td>\n",
       "      <td>WD</td>\n",
       "      <td>Normal</td>\n",
       "      <td>223500.0</td>\n",
       "    </tr>\n",
       "    <tr>\n",
       "      <th>3</th>\n",
       "      <td>70.0</td>\n",
       "      <td>RL</td>\n",
       "      <td>60.0</td>\n",
       "      <td>9550.0</td>\n",
       "      <td>Pave</td>\n",
       "      <td>None</td>\n",
       "      <td>IR1</td>\n",
       "      <td>Lvl</td>\n",
       "      <td>AllPub</td>\n",
       "      <td>Corner</td>\n",
       "      <td>...</td>\n",
       "      <td>0.0</td>\n",
       "      <td>None</td>\n",
       "      <td>None</td>\n",
       "      <td>None</td>\n",
       "      <td>0.0</td>\n",
       "      <td>2.0</td>\n",
       "      <td>2006.0</td>\n",
       "      <td>WD</td>\n",
       "      <td>Abnorml</td>\n",
       "      <td>140000.0</td>\n",
       "    </tr>\n",
       "    <tr>\n",
       "      <th>4</th>\n",
       "      <td>60.0</td>\n",
       "      <td>RL</td>\n",
       "      <td>84.0</td>\n",
       "      <td>14260.0</td>\n",
       "      <td>Pave</td>\n",
       "      <td>None</td>\n",
       "      <td>IR1</td>\n",
       "      <td>Lvl</td>\n",
       "      <td>AllPub</td>\n",
       "      <td>FR2</td>\n",
       "      <td>...</td>\n",
       "      <td>0.0</td>\n",
       "      <td>None</td>\n",
       "      <td>None</td>\n",
       "      <td>None</td>\n",
       "      <td>0.0</td>\n",
       "      <td>12.0</td>\n",
       "      <td>2008.0</td>\n",
       "      <td>WD</td>\n",
       "      <td>Normal</td>\n",
       "      <td>250000.0</td>\n",
       "    </tr>\n",
       "  </tbody>\n",
       "</table>\n",
       "<p>5 rows × 80 columns</p>\n",
       "</div>"
      ],
      "text/plain": [
       "   MSSubClass MSZoning  LotFrontage  LotArea Street Alley LotShape  \\\n",
       "0        60.0       RL         65.0   8450.0   Pave  None      Reg   \n",
       "1        20.0       RL         80.0   9600.0   Pave  None      Reg   \n",
       "2        60.0       RL         68.0  11250.0   Pave  None      IR1   \n",
       "3        70.0       RL         60.0   9550.0   Pave  None      IR1   \n",
       "4        60.0       RL         84.0  14260.0   Pave  None      IR1   \n",
       "\n",
       "  LandContour Utilities LotConfig  ... PoolArea PoolQC Fence MiscFeature  \\\n",
       "0         Lvl    AllPub    Inside  ...      0.0   None  None        None   \n",
       "1         Lvl    AllPub       FR2  ...      0.0   None  None        None   \n",
       "2         Lvl    AllPub    Inside  ...      0.0   None  None        None   \n",
       "3         Lvl    AllPub    Corner  ...      0.0   None  None        None   \n",
       "4         Lvl    AllPub       FR2  ...      0.0   None  None        None   \n",
       "\n",
       "  MiscVal MoSold  YrSold  SaleType  SaleCondition    target  \n",
       "0     0.0    2.0  2008.0        WD         Normal  208500.0  \n",
       "1     0.0    5.0  2007.0        WD         Normal  181500.0  \n",
       "2     0.0    9.0  2008.0        WD         Normal  223500.0  \n",
       "3     0.0    2.0  2006.0        WD        Abnorml  140000.0  \n",
       "4     0.0   12.0  2008.0        WD         Normal  250000.0  \n",
       "\n",
       "[5 rows x 80 columns]"
      ]
     },
     "execution_count": 44,
     "metadata": {},
     "output_type": "execute_result"
    }
   ],
   "source": [
    "# The new housing price data, for the next model\n",
    "\n",
    "from sklearn.datasets import fetch_openml\n",
    "housing = fetch_openml(name=\"house_prices\", as_frame=True)  \n",
    "\n",
    "housing_df = pd.DataFrame(housing['data'], columns=housing['feature_names'])\n",
    "housing_df['target'] = housing['target']\n",
    "housing_df.drop(['Id'], inplace = True, axis = 1)\n",
    "\n",
    "housing_df.head()"
   ]
  }
 ],
 "metadata": {
  "kernelspec": {
   "display_name": "Python 3",
   "language": "python",
   "name": "python3"
  },
  "language_info": {
   "codemirror_mode": {
    "name": "ipython",
    "version": 3
   },
   "file_extension": ".py",
   "mimetype": "text/x-python",
   "name": "python",
   "nbconvert_exporter": "python",
   "pygments_lexer": "ipython3",
   "version": "3.8.10"
  }
 },
 "nbformat": 4,
 "nbformat_minor": 5
}
