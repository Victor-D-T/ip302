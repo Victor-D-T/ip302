{
 "cells": [
  {
   "cell_type": "code",
   "execution_count": 110,
   "id": "76af832e",
   "metadata": {},
   "outputs": [],
   "source": [
    "import pandas as pd\n",
    "import numpy as np\n",
    "\n",
    "import seaborn as sns\n",
    "import matplotlib.pyplot as plt\n",
    "\n",
    "from sklearn.model_selection import train_test_split\n",
    "from sklearn.linear_model import LinearRegression\n",
    "from sklearn.metrics import r2_score"
   ]
  },
  {
   "cell_type": "markdown",
   "id": "b0a0df71",
   "metadata": {},
   "source": [
    "### Examining the Data"
   ]
  },
  {
   "cell_type": "code",
   "execution_count": 225,
   "id": "4043752c",
   "metadata": {},
   "outputs": [],
   "source": [
    "# Let's start with reading the data \n",
    "\n",
    "users_data = pd.read_pickle(\"../../data/users_data_final.pkl\")"
   ]
  },
  {
   "cell_type": "code",
   "execution_count": 226,
   "id": "10e4ad51",
   "metadata": {},
   "outputs": [
    {
     "data": {
      "text/html": [
       "<div>\n",
       "<style scoped>\n",
       "    .dataframe tbody tr th:only-of-type {\n",
       "        vertical-align: middle;\n",
       "    }\n",
       "\n",
       "    .dataframe tbody tr th {\n",
       "        vertical-align: top;\n",
       "    }\n",
       "\n",
       "    .dataframe thead th {\n",
       "        text-align: right;\n",
       "    }\n",
       "</style>\n",
       "<table border=\"1\" class=\"dataframe\">\n",
       "  <thead>\n",
       "    <tr style=\"text-align: right;\">\n",
       "      <th></th>\n",
       "      <th>user_id</th>\n",
       "      <th>number_transactions</th>\n",
       "      <th>total_amount_usd</th>\n",
       "      <th>age</th>\n",
       "      <th>job</th>\n",
       "      <th>marital</th>\n",
       "      <th>education</th>\n",
       "      <th>default</th>\n",
       "      <th>housing</th>\n",
       "      <th>loan</th>\n",
       "      <th>contact</th>\n",
       "      <th>duration</th>\n",
       "      <th>campaign</th>\n",
       "      <th>pdays</th>\n",
       "      <th>previous</th>\n",
       "      <th>poutcome</th>\n",
       "      <th>term_deposit</th>\n",
       "      <th>date_joined</th>\n",
       "      <th>device</th>\n",
       "    </tr>\n",
       "  </thead>\n",
       "  <tbody>\n",
       "    <tr>\n",
       "      <th>0</th>\n",
       "      <td>9231c446-cb16-4b2b-a7f7-ddfc8b25aaf6</td>\n",
       "      <td>3.0</td>\n",
       "      <td>2143.0</td>\n",
       "      <td>58</td>\n",
       "      <td>management</td>\n",
       "      <td>married</td>\n",
       "      <td>tertiary</td>\n",
       "      <td>False</td>\n",
       "      <td>True</td>\n",
       "      <td>False</td>\n",
       "      <td>None</td>\n",
       "      <td>261</td>\n",
       "      <td>1</td>\n",
       "      <td>-1</td>\n",
       "      <td>0</td>\n",
       "      <td>None</td>\n",
       "      <td>False</td>\n",
       "      <td>1998-08-23</td>\n",
       "      <td>mobile</td>\n",
       "    </tr>\n",
       "    <tr>\n",
       "      <th>1</th>\n",
       "      <td>bb92765a-08de-4963-b432-496524b39157</td>\n",
       "      <td>NaN</td>\n",
       "      <td>NaN</td>\n",
       "      <td>44</td>\n",
       "      <td>technician</td>\n",
       "      <td>single</td>\n",
       "      <td>secondary</td>\n",
       "      <td>False</td>\n",
       "      <td>True</td>\n",
       "      <td>False</td>\n",
       "      <td>None</td>\n",
       "      <td>151</td>\n",
       "      <td>1</td>\n",
       "      <td>-1</td>\n",
       "      <td>0</td>\n",
       "      <td>None</td>\n",
       "      <td>False</td>\n",
       "      <td>2008-07-15</td>\n",
       "      <td>desktop</td>\n",
       "    </tr>\n",
       "    <tr>\n",
       "      <th>2</th>\n",
       "      <td>573de577-49ef-42b9-83da-d3cfb817b5c1</td>\n",
       "      <td>2.0</td>\n",
       "      <td>2.0</td>\n",
       "      <td>33</td>\n",
       "      <td>entrepreneur</td>\n",
       "      <td>married</td>\n",
       "      <td>secondary</td>\n",
       "      <td>False</td>\n",
       "      <td>True</td>\n",
       "      <td>True</td>\n",
       "      <td>None</td>\n",
       "      <td>76</td>\n",
       "      <td>1</td>\n",
       "      <td>-1</td>\n",
       "      <td>0</td>\n",
       "      <td>None</td>\n",
       "      <td>False</td>\n",
       "      <td>2002-06-04</td>\n",
       "      <td>mobile</td>\n",
       "    </tr>\n",
       "    <tr>\n",
       "      <th>3</th>\n",
       "      <td>d6b66b9d-7c8f-4257-a682-e136f640b7e3</td>\n",
       "      <td>NaN</td>\n",
       "      <td>NaN</td>\n",
       "      <td>47</td>\n",
       "      <td>blue-collar</td>\n",
       "      <td>married</td>\n",
       "      <td>None</td>\n",
       "      <td>False</td>\n",
       "      <td>True</td>\n",
       "      <td>False</td>\n",
       "      <td>None</td>\n",
       "      <td>92</td>\n",
       "      <td>1</td>\n",
       "      <td>-1</td>\n",
       "      <td>0</td>\n",
       "      <td>None</td>\n",
       "      <td>False</td>\n",
       "      <td>1995-06-29</td>\n",
       "      <td>tablet</td>\n",
       "    </tr>\n",
       "    <tr>\n",
       "      <th>4</th>\n",
       "      <td>fade0b20-7594-4d9a-84cd-c02f79b1b526</td>\n",
       "      <td>1.0</td>\n",
       "      <td>1.0</td>\n",
       "      <td>33</td>\n",
       "      <td>None</td>\n",
       "      <td>single</td>\n",
       "      <td>None</td>\n",
       "      <td>False</td>\n",
       "      <td>False</td>\n",
       "      <td>False</td>\n",
       "      <td>None</td>\n",
       "      <td>198</td>\n",
       "      <td>1</td>\n",
       "      <td>-1</td>\n",
       "      <td>0</td>\n",
       "      <td>None</td>\n",
       "      <td>False</td>\n",
       "      <td>1995-08-01</td>\n",
       "      <td>mobile</td>\n",
       "    </tr>\n",
       "  </tbody>\n",
       "</table>\n",
       "</div>"
      ],
      "text/plain": [
       "                                user_id  number_transactions  \\\n",
       "0  9231c446-cb16-4b2b-a7f7-ddfc8b25aaf6                  3.0   \n",
       "1  bb92765a-08de-4963-b432-496524b39157                  NaN   \n",
       "2  573de577-49ef-42b9-83da-d3cfb817b5c1                  2.0   \n",
       "3  d6b66b9d-7c8f-4257-a682-e136f640b7e3                  NaN   \n",
       "4  fade0b20-7594-4d9a-84cd-c02f79b1b526                  1.0   \n",
       "\n",
       "   total_amount_usd  age           job  marital  education  default  housing  \\\n",
       "0            2143.0   58    management  married   tertiary    False     True   \n",
       "1               NaN   44    technician   single  secondary    False     True   \n",
       "2               2.0   33  entrepreneur  married  secondary    False     True   \n",
       "3               NaN   47   blue-collar  married       None    False     True   \n",
       "4               1.0   33          None   single       None    False    False   \n",
       "\n",
       "    loan contact  duration  campaign  pdays  previous poutcome  term_deposit  \\\n",
       "0  False    None       261         1     -1         0     None         False   \n",
       "1  False    None       151         1     -1         0     None         False   \n",
       "2   True    None        76         1     -1         0     None         False   \n",
       "3  False    None        92         1     -1         0     None         False   \n",
       "4  False    None       198         1     -1         0     None         False   \n",
       "\n",
       "  date_joined   device  \n",
       "0  1998-08-23   mobile  \n",
       "1  2008-07-15  desktop  \n",
       "2  2002-06-04   mobile  \n",
       "3  1995-06-29   tablet  \n",
       "4  1995-08-01   mobile  "
      ]
     },
     "execution_count": 226,
     "metadata": {},
     "output_type": "execute_result"
    }
   ],
   "source": [
    "# look at a preview of the data\n",
    "\n",
    "users_data.head(n = 5)"
   ]
  },
  {
   "cell_type": "code",
   "execution_count": 227,
   "id": "e5433956",
   "metadata": {},
   "outputs": [
    {
     "data": {
      "text/plain": [
       "(45209, 19)"
      ]
     },
     "execution_count": 227,
     "metadata": {},
     "output_type": "execute_result"
    }
   ],
   "source": [
    "# look at the shape of the data (rows, columns)\n",
    "\n",
    "users_data.shape"
   ]
  },
  {
   "cell_type": "code",
   "execution_count": 228,
   "id": "d1c57a15",
   "metadata": {},
   "outputs": [
    {
     "data": {
      "text/plain": [
       "45209"
      ]
     },
     "execution_count": 228,
     "metadata": {},
     "output_type": "execute_result"
    }
   ],
   "source": [
    "# How many users do we have in the dataframe?\n",
    "\n",
    "len(np.unique(users_data.user_id))\n",
    "\n",
    "# as expected, this is same as the number of rows in the data"
   ]
  },
  {
   "cell_type": "code",
   "execution_count": 229,
   "id": "54ee5951",
   "metadata": {},
   "outputs": [
    {
     "name": "stdout",
     "output_type": "stream",
     "text": [
      "<class 'pandas.core.frame.DataFrame'>\n",
      "Int64Index: 45209 entries, 0 to 45215\n",
      "Data columns (total 19 columns):\n",
      " #   Column               Non-Null Count  Dtype         \n",
      "---  ------               --------------  -----         \n",
      " 0   user_id              45209 non-null  object        \n",
      " 1   number_transactions  35210 non-null  float64       \n",
      " 2   total_amount_usd     35210 non-null  float64       \n",
      " 3   age                  45209 non-null  int64         \n",
      " 4   job                  44921 non-null  object        \n",
      " 5   marital              45209 non-null  object        \n",
      " 6   education            43352 non-null  object        \n",
      " 7   default              45209 non-null  bool          \n",
      " 8   housing              45209 non-null  bool          \n",
      " 9   loan                 45209 non-null  bool          \n",
      " 10  contact              32191 non-null  object        \n",
      " 11  duration             45209 non-null  int64         \n",
      " 12  campaign             45209 non-null  int64         \n",
      " 13  pdays                45209 non-null  int64         \n",
      " 14  previous             45209 non-null  int64         \n",
      " 15  poutcome             8252 non-null   object        \n",
      " 16  term_deposit         45209 non-null  bool          \n",
      " 17  date_joined          45179 non-null  datetime64[ns]\n",
      " 18  device               45115 non-null  object        \n",
      "dtypes: bool(4), datetime64[ns](1), float64(2), int64(5), object(7)\n",
      "memory usage: 5.7+ MB\n"
     ]
    }
   ],
   "source": [
    "users_data.info()"
   ]
  },
  {
   "cell_type": "markdown",
   "id": "b727415e",
   "metadata": {},
   "source": [
    "### Feature Selection: Drop the Date Joined Variable"
   ]
  },
  {
   "cell_type": "code",
   "execution_count": 230,
   "id": "f7444de8",
   "metadata": {},
   "outputs": [],
   "source": [
    "# Did you come up with a way to engineer date joined variable?\n",
    "# if not drop this variable\n",
    "\n",
    "users_data.drop(['date_joined'], axis = 1, inplace = True)\n"
   ]
  },
  {
   "cell_type": "markdown",
   "id": "e08ea532",
   "metadata": {},
   "source": [
    "### Feature Engineering: Numerical Data"
   ]
  },
  {
   "cell_type": "code",
   "execution_count": 231,
   "id": "167c0682",
   "metadata": {},
   "outputs": [
    {
     "name": "stdout",
     "output_type": "stream",
     "text": [
      "# of numerial columns: 11\n"
     ]
    }
   ],
   "source": [
    "# identify all the numerical features\n",
    "\n",
    "numerical_columns = list(users_data.select_dtypes(['float64', 'int64', 'bool']).columns)\n",
    "print(\"# of numerial columns:\", len(numerical_columns))"
   ]
  },
  {
   "cell_type": "code",
   "execution_count": 232,
   "id": "dd3c39b3",
   "metadata": {},
   "outputs": [
    {
     "data": {
      "text/plain": [
       "['number_transactions',\n",
       " 'total_amount_usd',\n",
       " 'age',\n",
       " 'default',\n",
       " 'housing',\n",
       " 'loan',\n",
       " 'duration',\n",
       " 'campaign',\n",
       " 'pdays',\n",
       " 'previous',\n",
       " 'term_deposit']"
      ]
     },
     "execution_count": 232,
     "metadata": {},
     "output_type": "execute_result"
    }
   ],
   "source": [
    "numerical_columns"
   ]
  },
  {
   "cell_type": "code",
   "execution_count": 233,
   "id": "32b3c5ee",
   "metadata": {},
   "outputs": [],
   "source": [
    "# replace missing numerical values with 0\n",
    "\n",
    "users_data['number_transactions'].fillna(0, inplace = True)\n",
    "users_data['total_amount_usd'].fillna(0, inplace = True)\n"
   ]
  },
  {
   "cell_type": "code",
   "execution_count": 234,
   "id": "f7b421dd",
   "metadata": {},
   "outputs": [
    {
     "data": {
      "text/html": [
       "<div>\n",
       "<style scoped>\n",
       "    .dataframe tbody tr th:only-of-type {\n",
       "        vertical-align: middle;\n",
       "    }\n",
       "\n",
       "    .dataframe tbody tr th {\n",
       "        vertical-align: top;\n",
       "    }\n",
       "\n",
       "    .dataframe thead th {\n",
       "        text-align: right;\n",
       "    }\n",
       "</style>\n",
       "<table border=\"1\" class=\"dataframe\">\n",
       "  <thead>\n",
       "    <tr style=\"text-align: right;\">\n",
       "      <th></th>\n",
       "      <th>number_transactions</th>\n",
       "      <th>total_amount_usd</th>\n",
       "      <th>age</th>\n",
       "      <th>default</th>\n",
       "      <th>housing</th>\n",
       "      <th>loan</th>\n",
       "      <th>duration</th>\n",
       "      <th>campaign</th>\n",
       "      <th>pdays</th>\n",
       "      <th>previous</th>\n",
       "      <th>term_deposit</th>\n",
       "    </tr>\n",
       "  </thead>\n",
       "  <tbody>\n",
       "    <tr>\n",
       "      <th>number_transactions</th>\n",
       "      <td>1.000000</td>\n",
       "      <td>-0.053000</td>\n",
       "      <td>-0.006587</td>\n",
       "      <td>0.106674</td>\n",
       "      <td>0.023340</td>\n",
       "      <td>0.058259</td>\n",
       "      <td>-0.013408</td>\n",
       "      <td>0.018530</td>\n",
       "      <td>-0.025933</td>\n",
       "      <td>-0.016458</td>\n",
       "      <td>-0.041566</td>\n",
       "    </tr>\n",
       "    <tr>\n",
       "      <th>total_amount_usd</th>\n",
       "      <td>-0.053000</td>\n",
       "      <td>1.000000</td>\n",
       "      <td>0.082964</td>\n",
       "      <td>-0.056963</td>\n",
       "      <td>-0.058107</td>\n",
       "      <td>-0.073512</td>\n",
       "      <td>0.019620</td>\n",
       "      <td>-0.015878</td>\n",
       "      <td>0.004753</td>\n",
       "      <td>0.016606</td>\n",
       "      <td>0.044277</td>\n",
       "    </tr>\n",
       "    <tr>\n",
       "      <th>age</th>\n",
       "      <td>-0.006587</td>\n",
       "      <td>0.082964</td>\n",
       "      <td>1.000000</td>\n",
       "      <td>-0.017875</td>\n",
       "      <td>-0.185552</td>\n",
       "      <td>-0.015641</td>\n",
       "      <td>-0.004645</td>\n",
       "      <td>0.004767</td>\n",
       "      <td>-0.023745</td>\n",
       "      <td>0.001297</td>\n",
       "      <td>0.025168</td>\n",
       "    </tr>\n",
       "    <tr>\n",
       "      <th>default</th>\n",
       "      <td>0.106674</td>\n",
       "      <td>-0.056963</td>\n",
       "      <td>-0.017875</td>\n",
       "      <td>1.000000</td>\n",
       "      <td>-0.006020</td>\n",
       "      <td>0.077232</td>\n",
       "      <td>-0.010017</td>\n",
       "      <td>0.016819</td>\n",
       "      <td>-0.029982</td>\n",
       "      <td>-0.018331</td>\n",
       "      <td>-0.022421</td>\n",
       "    </tr>\n",
       "    <tr>\n",
       "      <th>housing</th>\n",
       "      <td>0.023340</td>\n",
       "      <td>-0.058107</td>\n",
       "      <td>-0.185552</td>\n",
       "      <td>-0.006020</td>\n",
       "      <td>1.000000</td>\n",
       "      <td>0.041341</td>\n",
       "      <td>0.005041</td>\n",
       "      <td>-0.023583</td>\n",
       "      <td>0.124197</td>\n",
       "      <td>0.037087</td>\n",
       "      <td>-0.139161</td>\n",
       "    </tr>\n",
       "    <tr>\n",
       "      <th>loan</th>\n",
       "      <td>0.058259</td>\n",
       "      <td>-0.073512</td>\n",
       "      <td>-0.015641</td>\n",
       "      <td>0.077232</td>\n",
       "      <td>0.041341</td>\n",
       "      <td>1.000000</td>\n",
       "      <td>-0.012395</td>\n",
       "      <td>0.009972</td>\n",
       "      <td>-0.022762</td>\n",
       "      <td>-0.011048</td>\n",
       "      <td>-0.068193</td>\n",
       "    </tr>\n",
       "    <tr>\n",
       "      <th>duration</th>\n",
       "      <td>-0.013408</td>\n",
       "      <td>0.019620</td>\n",
       "      <td>-0.004645</td>\n",
       "      <td>-0.010017</td>\n",
       "      <td>0.005041</td>\n",
       "      <td>-0.012395</td>\n",
       "      <td>1.000000</td>\n",
       "      <td>-0.084551</td>\n",
       "      <td>-0.001549</td>\n",
       "      <td>0.001213</td>\n",
       "      <td>0.394549</td>\n",
       "    </tr>\n",
       "    <tr>\n",
       "      <th>campaign</th>\n",
       "      <td>0.018530</td>\n",
       "      <td>-0.015878</td>\n",
       "      <td>0.004767</td>\n",
       "      <td>0.016819</td>\n",
       "      <td>-0.023583</td>\n",
       "      <td>0.009972</td>\n",
       "      <td>-0.084551</td>\n",
       "      <td>1.000000</td>\n",
       "      <td>-0.088636</td>\n",
       "      <td>-0.032860</td>\n",
       "      <td>-0.073179</td>\n",
       "    </tr>\n",
       "    <tr>\n",
       "      <th>pdays</th>\n",
       "      <td>-0.025933</td>\n",
       "      <td>0.004753</td>\n",
       "      <td>-0.023745</td>\n",
       "      <td>-0.029982</td>\n",
       "      <td>0.124197</td>\n",
       "      <td>-0.022762</td>\n",
       "      <td>-0.001549</td>\n",
       "      <td>-0.088636</td>\n",
       "      <td>1.000000</td>\n",
       "      <td>0.454817</td>\n",
       "      <td>0.103616</td>\n",
       "    </tr>\n",
       "    <tr>\n",
       "      <th>previous</th>\n",
       "      <td>-0.016458</td>\n",
       "      <td>0.016606</td>\n",
       "      <td>0.001297</td>\n",
       "      <td>-0.018331</td>\n",
       "      <td>0.037087</td>\n",
       "      <td>-0.011048</td>\n",
       "      <td>0.001213</td>\n",
       "      <td>-0.032860</td>\n",
       "      <td>0.454817</td>\n",
       "      <td>1.000000</td>\n",
       "      <td>0.093232</td>\n",
       "    </tr>\n",
       "    <tr>\n",
       "      <th>term_deposit</th>\n",
       "      <td>-0.041566</td>\n",
       "      <td>0.044277</td>\n",
       "      <td>0.025168</td>\n",
       "      <td>-0.022421</td>\n",
       "      <td>-0.139161</td>\n",
       "      <td>-0.068193</td>\n",
       "      <td>0.394549</td>\n",
       "      <td>-0.073179</td>\n",
       "      <td>0.103616</td>\n",
       "      <td>0.093232</td>\n",
       "      <td>1.000000</td>\n",
       "    </tr>\n",
       "  </tbody>\n",
       "</table>\n",
       "</div>"
      ],
      "text/plain": [
       "                     number_transactions  total_amount_usd       age  \\\n",
       "number_transactions             1.000000         -0.053000 -0.006587   \n",
       "total_amount_usd               -0.053000          1.000000  0.082964   \n",
       "age                            -0.006587          0.082964  1.000000   \n",
       "default                         0.106674         -0.056963 -0.017875   \n",
       "housing                         0.023340         -0.058107 -0.185552   \n",
       "loan                            0.058259         -0.073512 -0.015641   \n",
       "duration                       -0.013408          0.019620 -0.004645   \n",
       "campaign                        0.018530         -0.015878  0.004767   \n",
       "pdays                          -0.025933          0.004753 -0.023745   \n",
       "previous                       -0.016458          0.016606  0.001297   \n",
       "term_deposit                   -0.041566          0.044277  0.025168   \n",
       "\n",
       "                      default   housing      loan  duration  campaign  \\\n",
       "number_transactions  0.106674  0.023340  0.058259 -0.013408  0.018530   \n",
       "total_amount_usd    -0.056963 -0.058107 -0.073512  0.019620 -0.015878   \n",
       "age                 -0.017875 -0.185552 -0.015641 -0.004645  0.004767   \n",
       "default              1.000000 -0.006020  0.077232 -0.010017  0.016819   \n",
       "housing             -0.006020  1.000000  0.041341  0.005041 -0.023583   \n",
       "loan                 0.077232  0.041341  1.000000 -0.012395  0.009972   \n",
       "duration            -0.010017  0.005041 -0.012395  1.000000 -0.084551   \n",
       "campaign             0.016819 -0.023583  0.009972 -0.084551  1.000000   \n",
       "pdays               -0.029982  0.124197 -0.022762 -0.001549 -0.088636   \n",
       "previous            -0.018331  0.037087 -0.011048  0.001213 -0.032860   \n",
       "term_deposit        -0.022421 -0.139161 -0.068193  0.394549 -0.073179   \n",
       "\n",
       "                        pdays  previous  term_deposit  \n",
       "number_transactions -0.025933 -0.016458     -0.041566  \n",
       "total_amount_usd     0.004753  0.016606      0.044277  \n",
       "age                 -0.023745  0.001297      0.025168  \n",
       "default             -0.029982 -0.018331     -0.022421  \n",
       "housing              0.124197  0.037087     -0.139161  \n",
       "loan                -0.022762 -0.011048     -0.068193  \n",
       "duration            -0.001549  0.001213      0.394549  \n",
       "campaign            -0.088636 -0.032860     -0.073179  \n",
       "pdays                1.000000  0.454817      0.103616  \n",
       "previous             0.454817  1.000000      0.093232  \n",
       "term_deposit         0.103616  0.093232      1.000000  "
      ]
     },
     "execution_count": 234,
     "metadata": {},
     "output_type": "execute_result"
    }
   ],
   "source": [
    "# identify highly correlated variables\n",
    "# look at the correlations, can you see any combinations with\n",
    "\n",
    "users_data.corr()"
   ]
  },
  {
   "cell_type": "code",
   "execution_count": 235,
   "id": "163709fe",
   "metadata": {},
   "outputs": [
    {
     "data": {
      "text/plain": [
       "[]"
      ]
     },
     "execution_count": 235,
     "metadata": {},
     "output_type": "execute_result"
    }
   ],
   "source": [
    "# we can use this code to identify highly correlated variables\n",
    "\n",
    "threshold = 0.75 # define threshold\n",
    "\n",
    "corr_matrix = users_data.corr().abs() # calculate the correlation matrix with \n",
    "high_corr_var = np.where(corr_matrix >= threshold) # identify variables that have correlations above defined threshold\n",
    "high_corr_var = [(corr_matrix.index[x], corr_matrix.columns[y], round(corr_matrix.iloc[x, y], 2))\n",
    "                         for x, y in zip(*high_corr_var) if x != y and x < y] # identify pairs of highly correlated variables\n",
    "\n",
    "\n",
    "high_corr_var"
   ]
  },
  {
   "cell_type": "code",
   "execution_count": 236,
   "id": "80b8e489",
   "metadata": {},
   "outputs": [
    {
     "data": {
      "image/png": "[encoded data removed]",
      "text/plain": [
       "<Figure size 432x144 with 1 Axes>"
      ]
     },
     "metadata": {
      "needs_background": "light"
     },
     "output_type": "display_data"
    }
   ],
   "source": [
    "# identify outliers, lets start with age \n",
    "# draw a box plot for age\n",
    "\n",
    "plt.figure(figsize=(6, 2))\n",
    "sns.boxplot(x = users_data['age'], color = 'orange', linewidth = 0.9);\n",
    "\n",
    "# question: does age have outliers?"
   ]
  },
  {
   "cell_type": "code",
   "execution_count": 237,
   "id": "0a37973f",
   "metadata": {},
   "outputs": [
    {
     "data": {
      "image/png": "[encoded data removed]",
      "text/plain": [
       "<Figure size 432x288 with 1 Axes>"
      ]
     },
     "metadata": {
      "needs_background": "light"
     },
     "output_type": "display_data"
    }
   ],
   "source": [
    "# draw a histogram for age\n",
    "\n",
    "users_data['age'].hist()\n",
    "plt.title(\"Distribution of Age\");\n",
    "\n",
    "# question: is age normally distributed?\n"
   ]
  },
  {
   "cell_type": "code",
   "execution_count": 238,
   "id": "f8389e6b",
   "metadata": {},
   "outputs": [
    {
     "data": {
      "text/plain": [
       "count    45209.000000\n",
       "mean        40.935853\n",
       "std         10.618653\n",
       "min         18.000000\n",
       "25%         33.000000\n",
       "50%         39.000000\n",
       "75%         48.000000\n",
       "max         95.000000\n",
       "Name: age, dtype: float64"
      ]
     },
     "execution_count": 238,
     "metadata": {},
     "output_type": "execute_result"
    }
   ],
   "source": [
    "users_data['age'].describe()"
   ]
  },
  {
   "cell_type": "code",
   "execution_count": 239,
   "id": "62d37ffb",
   "metadata": {},
   "outputs": [
    {
     "name": "stdout",
     "output_type": "stream",
     "text": [
      "Any age below this value is an outlier: 9.0\n",
      "Any age above this value is an outlier: 73.0\n"
     ]
    }
   ],
   "source": [
    "# there is very minimal skew, let's assume that age is normally distributed and remove the outliers\n",
    "\n",
    "UB = round(users_data['age'].mean() + 3*users_data['age'].std(), 0)\n",
    "LB = round(users_data['age'].mean() - 3*users_data['age'].std(), 0)\n",
    "\n",
    "print(\"Any age below this value is an outlier:\", LB)\n",
    "print(\"Any age above this value is an outlier:\", UB)"
   ]
  },
  {
   "cell_type": "code",
   "execution_count": 240,
   "id": "c7f19d07",
   "metadata": {},
   "outputs": [
    {
     "data": {
      "text/html": [
       "<div>\n",
       "<style scoped>\n",
       "    .dataframe tbody tr th:only-of-type {\n",
       "        vertical-align: middle;\n",
       "    }\n",
       "\n",
       "    .dataframe tbody tr th {\n",
       "        vertical-align: top;\n",
       "    }\n",
       "\n",
       "    .dataframe thead th {\n",
       "        text-align: right;\n",
       "    }\n",
       "</style>\n",
       "<table border=\"1\" class=\"dataframe\">\n",
       "  <thead>\n",
       "    <tr style=\"text-align: right;\">\n",
       "      <th></th>\n",
       "      <th>user_id</th>\n",
       "      <th>number_transactions</th>\n",
       "      <th>total_amount_usd</th>\n",
       "      <th>age</th>\n",
       "      <th>job</th>\n",
       "      <th>marital</th>\n",
       "      <th>education</th>\n",
       "      <th>default</th>\n",
       "      <th>housing</th>\n",
       "      <th>loan</th>\n",
       "      <th>contact</th>\n",
       "      <th>duration</th>\n",
       "      <th>campaign</th>\n",
       "      <th>pdays</th>\n",
       "      <th>previous</th>\n",
       "      <th>poutcome</th>\n",
       "      <th>term_deposit</th>\n",
       "      <th>device</th>\n",
       "    </tr>\n",
       "  </thead>\n",
       "  <tbody>\n",
       "    <tr>\n",
       "      <th>0</th>\n",
       "      <td>9231c446-cb16-4b2b-a7f7-ddfc8b25aaf6</td>\n",
       "      <td>3.0</td>\n",
       "      <td>2143.0</td>\n",
       "      <td>58</td>\n",
       "      <td>management</td>\n",
       "      <td>married</td>\n",
       "      <td>tertiary</td>\n",
       "      <td>False</td>\n",
       "      <td>True</td>\n",
       "      <td>False</td>\n",
       "      <td>None</td>\n",
       "      <td>261</td>\n",
       "      <td>1</td>\n",
       "      <td>-1</td>\n",
       "      <td>0</td>\n",
       "      <td>None</td>\n",
       "      <td>False</td>\n",
       "      <td>mobile</td>\n",
       "    </tr>\n",
       "    <tr>\n",
       "      <th>1</th>\n",
       "      <td>bb92765a-08de-4963-b432-496524b39157</td>\n",
       "      <td>0.0</td>\n",
       "      <td>0.0</td>\n",
       "      <td>44</td>\n",
       "      <td>technician</td>\n",
       "      <td>single</td>\n",
       "      <td>secondary</td>\n",
       "      <td>False</td>\n",
       "      <td>True</td>\n",
       "      <td>False</td>\n",
       "      <td>None</td>\n",
       "      <td>151</td>\n",
       "      <td>1</td>\n",
       "      <td>-1</td>\n",
       "      <td>0</td>\n",
       "      <td>None</td>\n",
       "      <td>False</td>\n",
       "      <td>desktop</td>\n",
       "    </tr>\n",
       "    <tr>\n",
       "      <th>2</th>\n",
       "      <td>573de577-49ef-42b9-83da-d3cfb817b5c1</td>\n",
       "      <td>2.0</td>\n",
       "      <td>2.0</td>\n",
       "      <td>33</td>\n",
       "      <td>entrepreneur</td>\n",
       "      <td>married</td>\n",
       "      <td>secondary</td>\n",
       "      <td>False</td>\n",
       "      <td>True</td>\n",
       "      <td>True</td>\n",
       "      <td>None</td>\n",
       "      <td>76</td>\n",
       "      <td>1</td>\n",
       "      <td>-1</td>\n",
       "      <td>0</td>\n",
       "      <td>None</td>\n",
       "      <td>False</td>\n",
       "      <td>mobile</td>\n",
       "    </tr>\n",
       "    <tr>\n",
       "      <th>3</th>\n",
       "      <td>d6b66b9d-7c8f-4257-a682-e136f640b7e3</td>\n",
       "      <td>0.0</td>\n",
       "      <td>0.0</td>\n",
       "      <td>47</td>\n",
       "      <td>blue-collar</td>\n",
       "      <td>married</td>\n",
       "      <td>None</td>\n",
       "      <td>False</td>\n",
       "      <td>True</td>\n",
       "      <td>False</td>\n",
       "      <td>None</td>\n",
       "      <td>92</td>\n",
       "      <td>1</td>\n",
       "      <td>-1</td>\n",
       "      <td>0</td>\n",
       "      <td>None</td>\n",
       "      <td>False</td>\n",
       "      <td>tablet</td>\n",
       "    </tr>\n",
       "    <tr>\n",
       "      <th>4</th>\n",
       "      <td>fade0b20-7594-4d9a-84cd-c02f79b1b526</td>\n",
       "      <td>1.0</td>\n",
       "      <td>1.0</td>\n",
       "      <td>33</td>\n",
       "      <td>None</td>\n",
       "      <td>single</td>\n",
       "      <td>None</td>\n",
       "      <td>False</td>\n",
       "      <td>False</td>\n",
       "      <td>False</td>\n",
       "      <td>None</td>\n",
       "      <td>198</td>\n",
       "      <td>1</td>\n",
       "      <td>-1</td>\n",
       "      <td>0</td>\n",
       "      <td>None</td>\n",
       "      <td>False</td>\n",
       "      <td>mobile</td>\n",
       "    </tr>\n",
       "  </tbody>\n",
       "</table>\n",
       "</div>"
      ],
      "text/plain": [
       "                                user_id  number_transactions  \\\n",
       "0  9231c446-cb16-4b2b-a7f7-ddfc8b25aaf6                  3.0   \n",
       "1  bb92765a-08de-4963-b432-496524b39157                  0.0   \n",
       "2  573de577-49ef-42b9-83da-d3cfb817b5c1                  2.0   \n",
       "3  d6b66b9d-7c8f-4257-a682-e136f640b7e3                  0.0   \n",
       "4  fade0b20-7594-4d9a-84cd-c02f79b1b526                  1.0   \n",
       "\n",
       "   total_amount_usd  age           job  marital  education  default  housing  \\\n",
       "0            2143.0   58    management  married   tertiary    False     True   \n",
       "1               0.0   44    technician   single  secondary    False     True   \n",
       "2               2.0   33  entrepreneur  married  secondary    False     True   \n",
       "3               0.0   47   blue-collar  married       None    False     True   \n",
       "4               1.0   33          None   single       None    False    False   \n",
       "\n",
       "    loan contact  duration  campaign  pdays  previous poutcome  term_deposit  \\\n",
       "0  False    None       261         1     -1         0     None         False   \n",
       "1  False    None       151         1     -1         0     None         False   \n",
       "2   True    None        76         1     -1         0     None         False   \n",
       "3  False    None        92         1     -1         0     None         False   \n",
       "4  False    None       198         1     -1         0     None         False   \n",
       "\n",
       "    device  \n",
       "0   mobile  \n",
       "1  desktop  \n",
       "2   mobile  \n",
       "3   tablet  \n",
       "4   mobile  "
      ]
     },
     "execution_count": 240,
     "metadata": {},
     "output_type": "execute_result"
    }
   ],
   "source": [
    "# subset the dataframe, so we only consider ages which are greater than 9 and less than 73\n",
    "\n",
    "users_data_cleaned = users_data[(users_data['age'] > LB) & (users_data['age'] < UB)]\n",
    "users_data_cleaned.head()"
   ]
  },
  {
   "cell_type": "code",
   "execution_count": 241,
   "id": "52d11774",
   "metadata": {},
   "outputs": [
    {
     "data": {
      "text/plain": [
       "(44828, 18)"
      ]
     },
     "execution_count": 241,
     "metadata": {},
     "output_type": "execute_result"
    }
   ],
   "source": [
    "# check the shape of the new data\n",
    "\n",
    "users_data_cleaned.shape"
   ]
  },
  {
   "cell_type": "code",
   "execution_count": 242,
   "id": "4bf0d3b0",
   "metadata": {},
   "outputs": [
    {
     "data": {
      "image/png": "[encoded data removed]",
      "text/plain": [
       "<Figure size 432x288 with 1 Axes>"
      ]
     },
     "metadata": {
      "needs_background": "light"
     },
     "output_type": "display_data"
    }
   ],
   "source": [
    "# check the distribution of age\n",
    "\n",
    "users_data_cleaned.age.hist();\n",
    "\n",
    "# what is the maximum value now?"
   ]
  },
  {
   "cell_type": "code",
   "execution_count": 243,
   "id": "b51be8a3",
   "metadata": {},
   "outputs": [
    {
     "name": "stdout",
     "output_type": "stream",
     "text": [
      "# of rows dropped: 381\n"
     ]
    }
   ],
   "source": [
    "# how many users did we drop?\n",
    "\n",
    "print(\"# of rows dropped:\", users_data.shape[0] - users_data_cleaned.shape[0])"
   ]
  },
  {
   "cell_type": "markdown",
   "id": "4f7d9bb9",
   "metadata": {},
   "source": [
    "### Feature Engineering: Categorical Data"
   ]
  },
  {
   "cell_type": "code",
   "execution_count": 244,
   "id": "21a19849",
   "metadata": {},
   "outputs": [
    {
     "name": "stdout",
     "output_type": "stream",
     "text": [
      "# of categorical columns: 7\n"
     ]
    }
   ],
   "source": [
    "# identify all the categorical features\n",
    "\n",
    "categorical_columns = list(users_data_cleaned.select_dtypes(['object']).columns)\n",
    "print(\"# of categorical columns:\", len(categorical_columns))"
   ]
  },
  {
   "cell_type": "code",
   "execution_count": 245,
   "id": "176f4da5",
   "metadata": {},
   "outputs": [
    {
     "data": {
      "text/plain": [
       "['user_id', 'job', 'marital', 'education', 'contact', 'poutcome', 'device']"
      ]
     },
     "execution_count": 245,
     "metadata": {},
     "output_type": "execute_result"
    }
   ],
   "source": [
    "# list of categorical columns\n",
    "\n",
    "categorical_columns"
   ]
  },
  {
   "cell_type": "code",
   "execution_count": 246,
   "id": "04f2af40",
   "metadata": {},
   "outputs": [
    {
     "data": {
      "text/plain": [
       "blue-collar      9729\n",
       "management       9447\n",
       "technician       7597\n",
       "admin.           5170\n",
       "services         4154\n",
       "retired          1919\n",
       "self-employed    1576\n",
       "entrepreneur     1486\n",
       "unemployed       1303\n",
       "housemaid        1226\n",
       "student           938\n",
       "NaN               283\n",
       "Name: job, dtype: int64"
      ]
     },
     "execution_count": 246,
     "metadata": {},
     "output_type": "execute_result"
    }
   ],
   "source": [
    "# We want to look at the distribution of e.g. jobs across all users\n",
    "# We could use the value_counts function to get a count of unique values\n",
    "\n",
    "users_job_dist = users_data_cleaned['job'].value_counts(dropna = False)\n",
    "users_job_dist"
   ]
  },
  {
   "cell_type": "code",
   "execution_count": 247,
   "id": "9f100243",
   "metadata": {},
   "outputs": [
    {
     "data": {
      "image/png": "[encoded data removed]",
      "text/plain": [
       "<Figure size 432x288 with 1 Axes>"
      ]
     },
     "metadata": {
      "needs_background": "light"
     },
     "output_type": "display_data"
    }
   ],
   "source": [
    "users_job_dist.plot(kind = 'barh')\n",
    "plt.title(\"Distribution of the user's jobs\");"
   ]
  },
  {
   "cell_type": "code",
   "execution_count": 248,
   "id": "4ec1a95a",
   "metadata": {},
   "outputs": [
    {
     "data": {
      "image/png": "[encoded data removed]",
      "text/plain": [
       "<Figure size 432x288 with 1 Axes>"
      ]
     },
     "metadata": {
      "needs_background": "light"
     },
     "output_type": "display_data"
    }
   ],
   "source": [
    "# without missing values\n",
    "\n",
    "users_data['job'].value_counts().plot(kind = 'barh')\n",
    "plt.title(\"Distribution of the user's jobs\");\n"
   ]
  },
  {
   "cell_type": "code",
   "execution_count": 249,
   "id": "50a4feff",
   "metadata": {},
   "outputs": [
    {
     "data": {
      "image/png": "[encoded data removed]",
      "text/plain": [
       "<Figure size 432x288 with 1 Axes>"
      ]
     },
     "metadata": {
      "needs_background": "light"
     },
     "output_type": "display_data"
    }
   ],
   "source": [
    "# lets plot another bar chart\n",
    "\n",
    "users_data_cleaned['marital'].value_counts(dropna = False).plot(kind = 'bar')\n",
    "plt.title(\"Distribution of the user's Marital Status\");"
   ]
  },
  {
   "cell_type": "code",
   "execution_count": 250,
   "id": "669bcf4f",
   "metadata": {},
   "outputs": [
    {
     "data": {
      "text/plain": [
       "user_id                    0\n",
       "number_transactions        0\n",
       "total_amount_usd           0\n",
       "age                        0\n",
       "job                      283\n",
       "marital                    0\n",
       "education               1813\n",
       "default                    0\n",
       "housing                    0\n",
       "loan                       0\n",
       "contact                13018\n",
       "duration                   0\n",
       "campaign                   0\n",
       "pdays                      0\n",
       "previous                   0\n",
       "poutcome               36719\n",
       "term_deposit               0\n",
       "device                    94\n",
       "dtype: int64"
      ]
     },
     "execution_count": 250,
     "metadata": {},
     "output_type": "execute_result"
    }
   ],
   "source": [
    "# identify and replace missing values\n",
    "\n",
    "users_data_cleaned.isnull().sum()\n",
    "\n",
    "# question: which feature has the most missing data?"
   ]
  },
  {
   "cell_type": "code",
   "execution_count": 251,
   "id": "ad8061ab",
   "metadata": {},
   "outputs": [
    {
     "data": {
      "text/plain": [
       "user_id                0.000000\n",
       "number_transactions    0.000000\n",
       "total_amount_usd       0.000000\n",
       "age                    0.000000\n",
       "job                    0.006313\n",
       "marital                0.000000\n",
       "education              0.040443\n",
       "default                0.000000\n",
       "housing                0.000000\n",
       "loan                   0.000000\n",
       "contact                0.290399\n",
       "duration               0.000000\n",
       "campaign               0.000000\n",
       "pdays                  0.000000\n",
       "previous               0.000000\n",
       "poutcome               0.819109\n",
       "term_deposit           0.000000\n",
       "device                 0.002097\n",
       "dtype: float64"
      ]
     },
     "execution_count": 251,
     "metadata": {},
     "output_type": "execute_result"
    }
   ],
   "source": [
    "# Another way to look at the missing values is the percentage of values that are missing\n",
    "\n",
    "percent_missing = users_data_cleaned.isnull().mean() \n",
    "\n",
    "percent_missing"
   ]
  },
  {
   "cell_type": "code",
   "execution_count": 252,
   "id": "1b594274",
   "metadata": {},
   "outputs": [
    {
     "data": {
      "text/html": [
       "<div>\n",
       "<style scoped>\n",
       "    .dataframe tbody tr th:only-of-type {\n",
       "        vertical-align: middle;\n",
       "    }\n",
       "\n",
       "    .dataframe tbody tr th {\n",
       "        vertical-align: top;\n",
       "    }\n",
       "\n",
       "    .dataframe thead th {\n",
       "        text-align: right;\n",
       "    }\n",
       "</style>\n",
       "<table border=\"1\" class=\"dataframe\">\n",
       "  <thead>\n",
       "    <tr style=\"text-align: right;\">\n",
       "      <th></th>\n",
       "      <th>feature</th>\n",
       "      <th>percent_missing</th>\n",
       "    </tr>\n",
       "  </thead>\n",
       "  <tbody>\n",
       "    <tr>\n",
       "      <th>15</th>\n",
       "      <td>poutcome</td>\n",
       "      <td>0.819109</td>\n",
       "    </tr>\n",
       "    <tr>\n",
       "      <th>10</th>\n",
       "      <td>contact</td>\n",
       "      <td>0.290399</td>\n",
       "    </tr>\n",
       "    <tr>\n",
       "      <th>6</th>\n",
       "      <td>education</td>\n",
       "      <td>0.040443</td>\n",
       "    </tr>\n",
       "    <tr>\n",
       "      <th>4</th>\n",
       "      <td>job</td>\n",
       "      <td>0.006313</td>\n",
       "    </tr>\n",
       "    <tr>\n",
       "      <th>17</th>\n",
       "      <td>device</td>\n",
       "      <td>0.002097</td>\n",
       "    </tr>\n",
       "    <tr>\n",
       "      <th>16</th>\n",
       "      <td>term_deposit</td>\n",
       "      <td>0.000000</td>\n",
       "    </tr>\n",
       "    <tr>\n",
       "      <th>14</th>\n",
       "      <td>previous</td>\n",
       "      <td>0.000000</td>\n",
       "    </tr>\n",
       "    <tr>\n",
       "      <th>13</th>\n",
       "      <td>pdays</td>\n",
       "      <td>0.000000</td>\n",
       "    </tr>\n",
       "    <tr>\n",
       "      <th>12</th>\n",
       "      <td>campaign</td>\n",
       "      <td>0.000000</td>\n",
       "    </tr>\n",
       "    <tr>\n",
       "      <th>11</th>\n",
       "      <td>duration</td>\n",
       "      <td>0.000000</td>\n",
       "    </tr>\n",
       "    <tr>\n",
       "      <th>0</th>\n",
       "      <td>user_id</td>\n",
       "      <td>0.000000</td>\n",
       "    </tr>\n",
       "    <tr>\n",
       "      <th>1</th>\n",
       "      <td>number_transactions</td>\n",
       "      <td>0.000000</td>\n",
       "    </tr>\n",
       "    <tr>\n",
       "      <th>8</th>\n",
       "      <td>housing</td>\n",
       "      <td>0.000000</td>\n",
       "    </tr>\n",
       "    <tr>\n",
       "      <th>7</th>\n",
       "      <td>default</td>\n",
       "      <td>0.000000</td>\n",
       "    </tr>\n",
       "    <tr>\n",
       "      <th>5</th>\n",
       "      <td>marital</td>\n",
       "      <td>0.000000</td>\n",
       "    </tr>\n",
       "    <tr>\n",
       "      <th>3</th>\n",
       "      <td>age</td>\n",
       "      <td>0.000000</td>\n",
       "    </tr>\n",
       "    <tr>\n",
       "      <th>2</th>\n",
       "      <td>total_amount_usd</td>\n",
       "      <td>0.000000</td>\n",
       "    </tr>\n",
       "    <tr>\n",
       "      <th>9</th>\n",
       "      <td>loan</td>\n",
       "      <td>0.000000</td>\n",
       "    </tr>\n",
       "  </tbody>\n",
       "</table>\n",
       "</div>"
      ],
      "text/plain": [
       "                feature  percent_missing\n",
       "15             poutcome         0.819109\n",
       "10              contact         0.290399\n",
       "6             education         0.040443\n",
       "4                   job         0.006313\n",
       "17               device         0.002097\n",
       "16         term_deposit         0.000000\n",
       "14             previous         0.000000\n",
       "13                pdays         0.000000\n",
       "12             campaign         0.000000\n",
       "11             duration         0.000000\n",
       "0               user_id         0.000000\n",
       "1   number_transactions         0.000000\n",
       "8               housing         0.000000\n",
       "7               default         0.000000\n",
       "5               marital         0.000000\n",
       "3                   age         0.000000\n",
       "2      total_amount_usd         0.000000\n",
       "9                  loan         0.000000"
      ]
     },
     "execution_count": 252,
     "metadata": {},
     "output_type": "execute_result"
    }
   ],
   "source": [
    "# lets format this so we can sort it by the perecentage missing\n",
    "\n",
    "def missing_dataframe(df):\n",
    "    \"\"\"\n",
    "    @param df pandas DataFrame\n",
    "    @return a DataFrame with the percentage of missing data for every feature\n",
    "    \"\"\"\n",
    "    \n",
    "    percent_missing = df.isnull().mean() \n",
    "    \n",
    "    missing_value_df = pd.DataFrame(percent_missing).reset_index() # convert to DataFrame\n",
    "    missing_value_df = missing_value_df.rename(columns = {\"index\" : \"feature\",\n",
    "                                                                0 : \"percent_missing\"}) # rename columns\n",
    "\n",
    "    missing_value_df = missing_value_df.sort_values(by = ['percent_missing'], ascending = False) # sort the values\n",
    "    \n",
    "    return missing_value_df\n",
    "\n",
    "missing_value_df = missing_dataframe(users_data_cleaned)\n",
    "missing_value_df\n",
    "\n",
    "# question: which column has the most missing values?"
   ]
  },
  {
   "cell_type": "code",
   "execution_count": 253,
   "id": "56552c58",
   "metadata": {},
   "outputs": [
    {
     "name": "stdout",
     "output_type": "stream",
     "text": [
      "number of a features with missing data more than defined threshold: 1\n"
     ]
    }
   ],
   "source": [
    "# we want to remove any feature which has missing values more than a certain percentage\n",
    "\n",
    "threshold = 0.75\n",
    "\n",
    "features_w_missing_data = list(missing_value_df[missing_value_df.percent_missing > 0.75].feature)\n",
    "print(\"number of a features with missing data more than defined threshold:\", len(features_w_missing_data))"
   ]
  },
  {
   "cell_type": "code",
   "execution_count": 254,
   "id": "2760bd2f",
   "metadata": {},
   "outputs": [
    {
     "name": "stderr",
     "output_type": "stream",
     "text": [
      "/Users/shaq/.pyenv/versions/3.8.10/lib/python3.8/site-packages/pandas/core/frame.py:4308: SettingWithCopyWarning: \n",
      "A value is trying to be set on a copy of a slice from a DataFrame\n",
      "\n",
      "See the caveats in the documentation: https://pandas.pydata.org/pandas-docs/stable/user_guide/indexing.html#returning-a-view-versus-a-copy\n",
      "  return super().drop(\n"
     ]
    }
   ],
   "source": [
    "# drop the feature that has a high percentage of missing data\n",
    "\n",
    "users_data_cleaned.drop(features_w_missing_data, axis = 1, inplace = True)"
   ]
  },
  {
   "cell_type": "code",
   "execution_count": 255,
   "id": "332bf775",
   "metadata": {},
   "outputs": [
    {
     "data": {
      "text/plain": [
       "user_id                    0\n",
       "number_transactions        0\n",
       "total_amount_usd           0\n",
       "age                        0\n",
       "job                      283\n",
       "marital                    0\n",
       "education               1813\n",
       "default                    0\n",
       "housing                    0\n",
       "loan                       0\n",
       "contact                13018\n",
       "duration                   0\n",
       "campaign                   0\n",
       "pdays                      0\n",
       "previous                   0\n",
       "term_deposit               0\n",
       "device                    94\n",
       "dtype: int64"
      ]
     },
     "execution_count": 255,
     "metadata": {},
     "output_type": "execute_result"
    }
   ],
   "source": [
    "# identifying missing data agin - you can also use the definition\n",
    "\n",
    "users_data_cleaned.isnull().sum()"
   ]
  },
  {
   "cell_type": "code",
   "execution_count": 256,
   "id": "f6b47c83",
   "metadata": {},
   "outputs": [
    {
     "name": "stderr",
     "output_type": "stream",
     "text": [
      "/Users/shaq/.pyenv/versions/3.8.10/lib/python3.8/site-packages/pandas/core/series.py:4463: SettingWithCopyWarning: \n",
      "A value is trying to be set on a copy of a slice from a DataFrame\n",
      "\n",
      "See the caveats in the documentation: https://pandas.pydata.org/pandas-docs/stable/user_guide/indexing.html#returning-a-view-versus-a-copy\n",
      "  return super().fillna(\n"
     ]
    }
   ],
   "source": [
    "# replace missing values with \"Unknown\"\n",
    "\n",
    "users_data_cleaned['job'].fillna(\"Unknown\", inplace = True)\n",
    "users_data_cleaned['education'].fillna(\"Unknown\", inplace = True)\n",
    "users_data_cleaned['contact'].fillna(\"Unknown\", inplace = True)\n",
    "users_data_cleaned['device'].fillna(\"Unknown\", inplace = True)\n"
   ]
  },
  {
   "cell_type": "code",
   "execution_count": 257,
   "id": "0d3b319c",
   "metadata": {},
   "outputs": [
    {
     "data": {
      "text/html": [
       "<div>\n",
       "<style scoped>\n",
       "    .dataframe tbody tr th:only-of-type {\n",
       "        vertical-align: middle;\n",
       "    }\n",
       "\n",
       "    .dataframe tbody tr th {\n",
       "        vertical-align: top;\n",
       "    }\n",
       "\n",
       "    .dataframe thead th {\n",
       "        text-align: right;\n",
       "    }\n",
       "</style>\n",
       "<table border=\"1\" class=\"dataframe\">\n",
       "  <thead>\n",
       "    <tr style=\"text-align: right;\">\n",
       "      <th></th>\n",
       "      <th>feature</th>\n",
       "      <th>percent_missing</th>\n",
       "    </tr>\n",
       "  </thead>\n",
       "  <tbody>\n",
       "    <tr>\n",
       "      <th>0</th>\n",
       "      <td>user_id</td>\n",
       "      <td>0.0</td>\n",
       "    </tr>\n",
       "    <tr>\n",
       "      <th>9</th>\n",
       "      <td>loan</td>\n",
       "      <td>0.0</td>\n",
       "    </tr>\n",
       "    <tr>\n",
       "      <th>15</th>\n",
       "      <td>term_deposit</td>\n",
       "      <td>0.0</td>\n",
       "    </tr>\n",
       "    <tr>\n",
       "      <th>14</th>\n",
       "      <td>previous</td>\n",
       "      <td>0.0</td>\n",
       "    </tr>\n",
       "    <tr>\n",
       "      <th>13</th>\n",
       "      <td>pdays</td>\n",
       "      <td>0.0</td>\n",
       "    </tr>\n",
       "    <tr>\n",
       "      <th>12</th>\n",
       "      <td>campaign</td>\n",
       "      <td>0.0</td>\n",
       "    </tr>\n",
       "    <tr>\n",
       "      <th>11</th>\n",
       "      <td>duration</td>\n",
       "      <td>0.0</td>\n",
       "    </tr>\n",
       "    <tr>\n",
       "      <th>10</th>\n",
       "      <td>contact</td>\n",
       "      <td>0.0</td>\n",
       "    </tr>\n",
       "    <tr>\n",
       "      <th>8</th>\n",
       "      <td>housing</td>\n",
       "      <td>0.0</td>\n",
       "    </tr>\n",
       "    <tr>\n",
       "      <th>1</th>\n",
       "      <td>number_transactions</td>\n",
       "      <td>0.0</td>\n",
       "    </tr>\n",
       "    <tr>\n",
       "      <th>7</th>\n",
       "      <td>default</td>\n",
       "      <td>0.0</td>\n",
       "    </tr>\n",
       "    <tr>\n",
       "      <th>6</th>\n",
       "      <td>education</td>\n",
       "      <td>0.0</td>\n",
       "    </tr>\n",
       "    <tr>\n",
       "      <th>5</th>\n",
       "      <td>marital</td>\n",
       "      <td>0.0</td>\n",
       "    </tr>\n",
       "    <tr>\n",
       "      <th>4</th>\n",
       "      <td>job</td>\n",
       "      <td>0.0</td>\n",
       "    </tr>\n",
       "    <tr>\n",
       "      <th>3</th>\n",
       "      <td>age</td>\n",
       "      <td>0.0</td>\n",
       "    </tr>\n",
       "    <tr>\n",
       "      <th>2</th>\n",
       "      <td>total_amount_usd</td>\n",
       "      <td>0.0</td>\n",
       "    </tr>\n",
       "    <tr>\n",
       "      <th>16</th>\n",
       "      <td>device</td>\n",
       "      <td>0.0</td>\n",
       "    </tr>\n",
       "  </tbody>\n",
       "</table>\n",
       "</div>"
      ],
      "text/plain": [
       "                feature  percent_missing\n",
       "0               user_id              0.0\n",
       "9                  loan              0.0\n",
       "15         term_deposit              0.0\n",
       "14             previous              0.0\n",
       "13                pdays              0.0\n",
       "12             campaign              0.0\n",
       "11             duration              0.0\n",
       "10              contact              0.0\n",
       "8               housing              0.0\n",
       "1   number_transactions              0.0\n",
       "7               default              0.0\n",
       "6             education              0.0\n",
       "5               marital              0.0\n",
       "4                   job              0.0\n",
       "3                   age              0.0\n",
       "2      total_amount_usd              0.0\n",
       "16               device              0.0"
      ]
     },
     "execution_count": 257,
     "metadata": {},
     "output_type": "execute_result"
    }
   ],
   "source": [
    "missing_value_df = missing_dataframe(users_data_cleaned)\n",
    "missing_value_df"
   ]
  },
  {
   "cell_type": "code",
   "execution_count": 258,
   "id": "7ae993c3",
   "metadata": {},
   "outputs": [
    {
     "data": {
      "text/html": [
       "<div>\n",
       "<style scoped>\n",
       "    .dataframe tbody tr th:only-of-type {\n",
       "        vertical-align: middle;\n",
       "    }\n",
       "\n",
       "    .dataframe tbody tr th {\n",
       "        vertical-align: top;\n",
       "    }\n",
       "\n",
       "    .dataframe thead th {\n",
       "        text-align: right;\n",
       "    }\n",
       "</style>\n",
       "<table border=\"1\" class=\"dataframe\">\n",
       "  <thead>\n",
       "    <tr style=\"text-align: right;\">\n",
       "      <th></th>\n",
       "      <th>marital_divorced</th>\n",
       "      <th>marital_married</th>\n",
       "      <th>marital_single</th>\n",
       "    </tr>\n",
       "  </thead>\n",
       "  <tbody>\n",
       "    <tr>\n",
       "      <th>0</th>\n",
       "      <td>0</td>\n",
       "      <td>1</td>\n",
       "      <td>0</td>\n",
       "    </tr>\n",
       "    <tr>\n",
       "      <th>1</th>\n",
       "      <td>0</td>\n",
       "      <td>0</td>\n",
       "      <td>1</td>\n",
       "    </tr>\n",
       "    <tr>\n",
       "      <th>2</th>\n",
       "      <td>0</td>\n",
       "      <td>1</td>\n",
       "      <td>0</td>\n",
       "    </tr>\n",
       "    <tr>\n",
       "      <th>3</th>\n",
       "      <td>0</td>\n",
       "      <td>1</td>\n",
       "      <td>0</td>\n",
       "    </tr>\n",
       "    <tr>\n",
       "      <th>4</th>\n",
       "      <td>0</td>\n",
       "      <td>0</td>\n",
       "      <td>1</td>\n",
       "    </tr>\n",
       "    <tr>\n",
       "      <th>...</th>\n",
       "      <td>...</td>\n",
       "      <td>...</td>\n",
       "      <td>...</td>\n",
       "    </tr>\n",
       "    <tr>\n",
       "      <th>45211</th>\n",
       "      <td>0</td>\n",
       "      <td>1</td>\n",
       "      <td>0</td>\n",
       "    </tr>\n",
       "    <tr>\n",
       "      <th>45212</th>\n",
       "      <td>1</td>\n",
       "      <td>0</td>\n",
       "      <td>0</td>\n",
       "    </tr>\n",
       "    <tr>\n",
       "      <th>45213</th>\n",
       "      <td>0</td>\n",
       "      <td>1</td>\n",
       "      <td>0</td>\n",
       "    </tr>\n",
       "    <tr>\n",
       "      <th>45214</th>\n",
       "      <td>0</td>\n",
       "      <td>1</td>\n",
       "      <td>0</td>\n",
       "    </tr>\n",
       "    <tr>\n",
       "      <th>45215</th>\n",
       "      <td>0</td>\n",
       "      <td>1</td>\n",
       "      <td>0</td>\n",
       "    </tr>\n",
       "  </tbody>\n",
       "</table>\n",
       "<p>44828 rows × 3 columns</p>\n",
       "</div>"
      ],
      "text/plain": [
       "       marital_divorced  marital_married  marital_single\n",
       "0                     0                1               0\n",
       "1                     0                0               1\n",
       "2                     0                1               0\n",
       "3                     0                1               0\n",
       "4                     0                0               1\n",
       "...                 ...              ...             ...\n",
       "45211                 0                1               0\n",
       "45212                 1                0               0\n",
       "45213                 0                1               0\n",
       "45214                 0                1               0\n",
       "45215                 0                1               0\n",
       "\n",
       "[44828 rows x 3 columns]"
      ]
     },
     "execution_count": 258,
     "metadata": {},
     "output_type": "execute_result"
    }
   ],
   "source": [
    "# before building our model, we need to encode the categorical data\n",
    "# lots of ways to do that, but we will use pd.get_dummies function\n",
    "# lets start with marital\n",
    "\n",
    "pd.get_dummies(users_data_cleaned['marital'], prefix='marital')\n",
    "\n",
    "# you can also one of dummy variables, as it can be inferred by the other dummy variables"
   ]
  },
  {
   "cell_type": "code",
   "execution_count": 259,
   "id": "e291d03b",
   "metadata": {},
   "outputs": [
    {
     "name": "stdout",
     "output_type": "stream",
     "text": [
      "<class 'pandas.core.frame.DataFrame'>\n",
      "Int64Index: 44828 entries, 0 to 45215\n",
      "Data columns (total 17 columns):\n",
      " #   Column               Non-Null Count  Dtype  \n",
      "---  ------               --------------  -----  \n",
      " 0   user_id              44828 non-null  object \n",
      " 1   number_transactions  44828 non-null  float64\n",
      " 2   total_amount_usd     44828 non-null  float64\n",
      " 3   age                  44828 non-null  int64  \n",
      " 4   job                  44828 non-null  object \n",
      " 5   marital              44828 non-null  object \n",
      " 6   education            44828 non-null  object \n",
      " 7   default              44828 non-null  bool   \n",
      " 8   housing              44828 non-null  bool   \n",
      " 9   loan                 44828 non-null  bool   \n",
      " 10  contact              44828 non-null  object \n",
      " 11  duration             44828 non-null  int64  \n",
      " 12  campaign             44828 non-null  int64  \n",
      " 13  pdays                44828 non-null  int64  \n",
      " 14  previous             44828 non-null  int64  \n",
      " 15  term_deposit         44828 non-null  bool   \n",
      " 16  device               44828 non-null  object \n",
      "dtypes: bool(4), float64(2), int64(5), object(6)\n",
      "memory usage: 5.0+ MB\n"
     ]
    }
   ],
   "source": [
    "users_data_cleaned.info()"
   ]
  },
  {
   "cell_type": "code",
   "execution_count": 260,
   "id": "4b05b764",
   "metadata": {},
   "outputs": [
    {
     "name": "stdout",
     "output_type": "stream",
     "text": [
      "user_id : 44828\n",
      "job : 12\n",
      "marital : 3\n",
      "education : 4\n",
      "contact : 3\n",
      "device : 4\n"
     ]
    }
   ],
   "source": [
    "# how many categories does every categorial feature have\n",
    "\n",
    "categorical_columns = list(users_data_cleaned.select_dtypes(['object']).columns)\n",
    "\n",
    "for c in categorical_columns:\n",
    "    print(c,\":\",len(users_data_cleaned[c].value_counts(dropna = False)))\n"
   ]
  },
  {
   "cell_type": "code",
   "execution_count": 261,
   "id": "16d5146c",
   "metadata": {},
   "outputs": [
    {
     "name": "stderr",
     "output_type": "stream",
     "text": [
      "/Users/shaq/.pyenv/versions/3.8.10/lib/python3.8/site-packages/pandas/core/frame.py:4308: SettingWithCopyWarning: \n",
      "A value is trying to be set on a copy of a slice from a DataFrame\n",
      "\n",
      "See the caveats in the documentation: https://pandas.pydata.org/pandas-docs/stable/user_guide/indexing.html#returning-a-view-versus-a-copy\n",
      "  return super().drop(\n"
     ]
    }
   ],
   "source": [
    "# drop any feature that has more than 10 categories\n",
    "\n",
    "users_data_cleaned.drop(['user_id', 'job'], axis = 1, inplace = True)"
   ]
  },
  {
   "cell_type": "code",
   "execution_count": 262,
   "id": "d328b6ac",
   "metadata": {},
   "outputs": [],
   "source": [
    "def one_hot(df, categorical_cols):\n",
    "    \"\"\"\n",
    "    @param df pandas DataFrame\n",
    "    @param cols a list of columns to encode \n",
    "    @return a DataFrame with one-hot encoding\n",
    "    \"\"\"\n",
    "    \n",
    "    for c in categorical_cols:\n",
    "        dummies = pd.get_dummies(df[c], prefix=c, drop_first=False)\n",
    "        df = pd.concat([df, dummies], axis=1)\n",
    "        df.drop(c, axis = 1, inplace = True)\n",
    "    \n",
    "    return df"
   ]
  },
  {
   "cell_type": "code",
   "execution_count": 263,
   "id": "a07a1c66",
   "metadata": {},
   "outputs": [],
   "source": [
    "categorical_columns = list(users_data_cleaned.select_dtypes(['object']).columns)\n",
    "\n",
    "users_data_cleaned_w_encoding = one_hot(users_data_cleaned, categorical_columns)"
   ]
  },
  {
   "cell_type": "code",
   "execution_count": 264,
   "id": "c906d9a1",
   "metadata": {},
   "outputs": [
    {
     "data": {
      "text/html": [
       "<div>\n",
       "<style scoped>\n",
       "    .dataframe tbody tr th:only-of-type {\n",
       "        vertical-align: middle;\n",
       "    }\n",
       "\n",
       "    .dataframe tbody tr th {\n",
       "        vertical-align: top;\n",
       "    }\n",
       "\n",
       "    .dataframe thead th {\n",
       "        text-align: right;\n",
       "    }\n",
       "</style>\n",
       "<table border=\"1\" class=\"dataframe\">\n",
       "  <thead>\n",
       "    <tr style=\"text-align: right;\">\n",
       "      <th></th>\n",
       "      <th>number_transactions</th>\n",
       "      <th>total_amount_usd</th>\n",
       "      <th>age</th>\n",
       "      <th>default</th>\n",
       "      <th>housing</th>\n",
       "      <th>loan</th>\n",
       "      <th>duration</th>\n",
       "      <th>campaign</th>\n",
       "      <th>pdays</th>\n",
       "      <th>previous</th>\n",
       "      <th>...</th>\n",
       "      <th>education_primary</th>\n",
       "      <th>education_secondary</th>\n",
       "      <th>education_tertiary</th>\n",
       "      <th>contact_Unknown</th>\n",
       "      <th>contact_cellular</th>\n",
       "      <th>contact_telephone</th>\n",
       "      <th>device_Unknown</th>\n",
       "      <th>device_desktop</th>\n",
       "      <th>device_mobile</th>\n",
       "      <th>device_tablet</th>\n",
       "    </tr>\n",
       "  </thead>\n",
       "  <tbody>\n",
       "    <tr>\n",
       "      <th>0</th>\n",
       "      <td>3.0</td>\n",
       "      <td>2143.0</td>\n",
       "      <td>58</td>\n",
       "      <td>False</td>\n",
       "      <td>True</td>\n",
       "      <td>False</td>\n",
       "      <td>261</td>\n",
       "      <td>1</td>\n",
       "      <td>-1</td>\n",
       "      <td>0</td>\n",
       "      <td>...</td>\n",
       "      <td>0</td>\n",
       "      <td>0</td>\n",
       "      <td>1</td>\n",
       "      <td>1</td>\n",
       "      <td>0</td>\n",
       "      <td>0</td>\n",
       "      <td>0</td>\n",
       "      <td>0</td>\n",
       "      <td>1</td>\n",
       "      <td>0</td>\n",
       "    </tr>\n",
       "    <tr>\n",
       "      <th>1</th>\n",
       "      <td>0.0</td>\n",
       "      <td>0.0</td>\n",
       "      <td>44</td>\n",
       "      <td>False</td>\n",
       "      <td>True</td>\n",
       "      <td>False</td>\n",
       "      <td>151</td>\n",
       "      <td>1</td>\n",
       "      <td>-1</td>\n",
       "      <td>0</td>\n",
       "      <td>...</td>\n",
       "      <td>0</td>\n",
       "      <td>1</td>\n",
       "      <td>0</td>\n",
       "      <td>1</td>\n",
       "      <td>0</td>\n",
       "      <td>0</td>\n",
       "      <td>0</td>\n",
       "      <td>1</td>\n",
       "      <td>0</td>\n",
       "      <td>0</td>\n",
       "    </tr>\n",
       "    <tr>\n",
       "      <th>2</th>\n",
       "      <td>2.0</td>\n",
       "      <td>2.0</td>\n",
       "      <td>33</td>\n",
       "      <td>False</td>\n",
       "      <td>True</td>\n",
       "      <td>True</td>\n",
       "      <td>76</td>\n",
       "      <td>1</td>\n",
       "      <td>-1</td>\n",
       "      <td>0</td>\n",
       "      <td>...</td>\n",
       "      <td>0</td>\n",
       "      <td>1</td>\n",
       "      <td>0</td>\n",
       "      <td>1</td>\n",
       "      <td>0</td>\n",
       "      <td>0</td>\n",
       "      <td>0</td>\n",
       "      <td>0</td>\n",
       "      <td>1</td>\n",
       "      <td>0</td>\n",
       "    </tr>\n",
       "    <tr>\n",
       "      <th>3</th>\n",
       "      <td>0.0</td>\n",
       "      <td>0.0</td>\n",
       "      <td>47</td>\n",
       "      <td>False</td>\n",
       "      <td>True</td>\n",
       "      <td>False</td>\n",
       "      <td>92</td>\n",
       "      <td>1</td>\n",
       "      <td>-1</td>\n",
       "      <td>0</td>\n",
       "      <td>...</td>\n",
       "      <td>0</td>\n",
       "      <td>0</td>\n",
       "      <td>0</td>\n",
       "      <td>1</td>\n",
       "      <td>0</td>\n",
       "      <td>0</td>\n",
       "      <td>0</td>\n",
       "      <td>0</td>\n",
       "      <td>0</td>\n",
       "      <td>1</td>\n",
       "    </tr>\n",
       "    <tr>\n",
       "      <th>4</th>\n",
       "      <td>1.0</td>\n",
       "      <td>1.0</td>\n",
       "      <td>33</td>\n",
       "      <td>False</td>\n",
       "      <td>False</td>\n",
       "      <td>False</td>\n",
       "      <td>198</td>\n",
       "      <td>1</td>\n",
       "      <td>-1</td>\n",
       "      <td>0</td>\n",
       "      <td>...</td>\n",
       "      <td>0</td>\n",
       "      <td>0</td>\n",
       "      <td>0</td>\n",
       "      <td>1</td>\n",
       "      <td>0</td>\n",
       "      <td>0</td>\n",
       "      <td>0</td>\n",
       "      <td>0</td>\n",
       "      <td>1</td>\n",
       "      <td>0</td>\n",
       "    </tr>\n",
       "  </tbody>\n",
       "</table>\n",
       "<p>5 rows × 25 columns</p>\n",
       "</div>"
      ],
      "text/plain": [
       "   number_transactions  total_amount_usd  age  default  housing   loan  \\\n",
       "0                  3.0            2143.0   58    False     True  False   \n",
       "1                  0.0               0.0   44    False     True  False   \n",
       "2                  2.0               2.0   33    False     True   True   \n",
       "3                  0.0               0.0   47    False     True  False   \n",
       "4                  1.0               1.0   33    False    False  False   \n",
       "\n",
       "   duration  campaign  pdays  previous  ...  education_primary  \\\n",
       "0       261         1     -1         0  ...                  0   \n",
       "1       151         1     -1         0  ...                  0   \n",
       "2        76         1     -1         0  ...                  0   \n",
       "3        92         1     -1         0  ...                  0   \n",
       "4       198         1     -1         0  ...                  0   \n",
       "\n",
       "   education_secondary  education_tertiary  contact_Unknown  contact_cellular  \\\n",
       "0                    0                   1                1                 0   \n",
       "1                    1                   0                1                 0   \n",
       "2                    1                   0                1                 0   \n",
       "3                    0                   0                1                 0   \n",
       "4                    0                   0                1                 0   \n",
       "\n",
       "   contact_telephone  device_Unknown  device_desktop  device_mobile  \\\n",
       "0                  0               0               0              1   \n",
       "1                  0               0               1              0   \n",
       "2                  0               0               0              1   \n",
       "3                  0               0               0              0   \n",
       "4                  0               0               0              1   \n",
       "\n",
       "   device_tablet  \n",
       "0              0  \n",
       "1              0  \n",
       "2              0  \n",
       "3              1  \n",
       "4              0  \n",
       "\n",
       "[5 rows x 25 columns]"
      ]
     },
     "execution_count": 264,
     "metadata": {},
     "output_type": "execute_result"
    }
   ],
   "source": [
    "users_data_cleaned_w_encoding.head()"
   ]
  },
  {
   "cell_type": "code",
   "execution_count": 265,
   "id": "c193eb50",
   "metadata": {},
   "outputs": [
    {
     "name": "stdout",
     "output_type": "stream",
     "text": [
      "<class 'pandas.core.frame.DataFrame'>\n",
      "Int64Index: 44828 entries, 0 to 45215\n",
      "Data columns (total 25 columns):\n",
      " #   Column               Non-Null Count  Dtype  \n",
      "---  ------               --------------  -----  \n",
      " 0   number_transactions  44828 non-null  float64\n",
      " 1   total_amount_usd     44828 non-null  float64\n",
      " 2   age                  44828 non-null  int64  \n",
      " 3   default              44828 non-null  bool   \n",
      " 4   housing              44828 non-null  bool   \n",
      " 5   loan                 44828 non-null  bool   \n",
      " 6   duration             44828 non-null  int64  \n",
      " 7   campaign             44828 non-null  int64  \n",
      " 8   pdays                44828 non-null  int64  \n",
      " 9   previous             44828 non-null  int64  \n",
      " 10  term_deposit         44828 non-null  bool   \n",
      " 11  marital_divorced     44828 non-null  uint8  \n",
      " 12  marital_married      44828 non-null  uint8  \n",
      " 13  marital_single       44828 non-null  uint8  \n",
      " 14  education_Unknown    44828 non-null  uint8  \n",
      " 15  education_primary    44828 non-null  uint8  \n",
      " 16  education_secondary  44828 non-null  uint8  \n",
      " 17  education_tertiary   44828 non-null  uint8  \n",
      " 18  contact_Unknown      44828 non-null  uint8  \n",
      " 19  contact_cellular     44828 non-null  uint8  \n",
      " 20  contact_telephone    44828 non-null  uint8  \n",
      " 21  device_Unknown       44828 non-null  uint8  \n",
      " 22  device_desktop       44828 non-null  uint8  \n",
      " 23  device_mobile        44828 non-null  uint8  \n",
      " 24  device_tablet        44828 non-null  uint8  \n",
      "dtypes: bool(4), float64(2), int64(5), uint8(14)\n",
      "memory usage: 3.5 MB\n"
     ]
    }
   ],
   "source": [
    "users_data_cleaned_w_encoding.info()\n",
    "\n",
    "# question: does anyone see any numerical data?"
   ]
  },
  {
   "cell_type": "code",
   "execution_count": 266,
   "id": "2b41843e",
   "metadata": {},
   "outputs": [],
   "source": [
    "# write this cleaned dataset\n",
    "\n",
    "users_data_cleaned_w_encoding.to_pickle(\"../../data/users_data_cleaned_w_encoding.pkl\")"
   ]
  },
  {
   "cell_type": "markdown",
   "id": "25e7aca5",
   "metadata": {},
   "source": [
    "### Building the first machine learning model"
   ]
  },
  {
   "cell_type": "code",
   "execution_count": 298,
   "id": "9e4ce9cc",
   "metadata": {},
   "outputs": [
    {
     "data": {
      "text/html": [
       "<div>\n",
       "<style scoped>\n",
       "    .dataframe tbody tr th:only-of-type {\n",
       "        vertical-align: middle;\n",
       "    }\n",
       "\n",
       "    .dataframe tbody tr th {\n",
       "        vertical-align: top;\n",
       "    }\n",
       "\n",
       "    .dataframe thead th {\n",
       "        text-align: right;\n",
       "    }\n",
       "</style>\n",
       "<table border=\"1\" class=\"dataframe\">\n",
       "  <thead>\n",
       "    <tr style=\"text-align: right;\">\n",
       "      <th></th>\n",
       "      <th>number_transactions</th>\n",
       "      <th>total_amount_usd</th>\n",
       "      <th>age</th>\n",
       "      <th>default</th>\n",
       "      <th>housing</th>\n",
       "      <th>loan</th>\n",
       "      <th>duration</th>\n",
       "      <th>campaign</th>\n",
       "      <th>pdays</th>\n",
       "      <th>previous</th>\n",
       "      <th>...</th>\n",
       "      <th>education_primary</th>\n",
       "      <th>education_secondary</th>\n",
       "      <th>education_tertiary</th>\n",
       "      <th>contact_Unknown</th>\n",
       "      <th>contact_cellular</th>\n",
       "      <th>contact_telephone</th>\n",
       "      <th>device_Unknown</th>\n",
       "      <th>device_desktop</th>\n",
       "      <th>device_mobile</th>\n",
       "      <th>device_tablet</th>\n",
       "    </tr>\n",
       "  </thead>\n",
       "  <tbody>\n",
       "    <tr>\n",
       "      <th>0</th>\n",
       "      <td>3.0</td>\n",
       "      <td>2143.0</td>\n",
       "      <td>58</td>\n",
       "      <td>False</td>\n",
       "      <td>True</td>\n",
       "      <td>False</td>\n",
       "      <td>261</td>\n",
       "      <td>1</td>\n",
       "      <td>-1</td>\n",
       "      <td>0</td>\n",
       "      <td>...</td>\n",
       "      <td>0</td>\n",
       "      <td>0</td>\n",
       "      <td>1</td>\n",
       "      <td>1</td>\n",
       "      <td>0</td>\n",
       "      <td>0</td>\n",
       "      <td>0</td>\n",
       "      <td>0</td>\n",
       "      <td>1</td>\n",
       "      <td>0</td>\n",
       "    </tr>\n",
       "    <tr>\n",
       "      <th>1</th>\n",
       "      <td>0.0</td>\n",
       "      <td>0.0</td>\n",
       "      <td>44</td>\n",
       "      <td>False</td>\n",
       "      <td>True</td>\n",
       "      <td>False</td>\n",
       "      <td>151</td>\n",
       "      <td>1</td>\n",
       "      <td>-1</td>\n",
       "      <td>0</td>\n",
       "      <td>...</td>\n",
       "      <td>0</td>\n",
       "      <td>1</td>\n",
       "      <td>0</td>\n",
       "      <td>1</td>\n",
       "      <td>0</td>\n",
       "      <td>0</td>\n",
       "      <td>0</td>\n",
       "      <td>1</td>\n",
       "      <td>0</td>\n",
       "      <td>0</td>\n",
       "    </tr>\n",
       "    <tr>\n",
       "      <th>2</th>\n",
       "      <td>2.0</td>\n",
       "      <td>2.0</td>\n",
       "      <td>33</td>\n",
       "      <td>False</td>\n",
       "      <td>True</td>\n",
       "      <td>True</td>\n",
       "      <td>76</td>\n",
       "      <td>1</td>\n",
       "      <td>-1</td>\n",
       "      <td>0</td>\n",
       "      <td>...</td>\n",
       "      <td>0</td>\n",
       "      <td>1</td>\n",
       "      <td>0</td>\n",
       "      <td>1</td>\n",
       "      <td>0</td>\n",
       "      <td>0</td>\n",
       "      <td>0</td>\n",
       "      <td>0</td>\n",
       "      <td>1</td>\n",
       "      <td>0</td>\n",
       "    </tr>\n",
       "    <tr>\n",
       "      <th>3</th>\n",
       "      <td>0.0</td>\n",
       "      <td>0.0</td>\n",
       "      <td>47</td>\n",
       "      <td>False</td>\n",
       "      <td>True</td>\n",
       "      <td>False</td>\n",
       "      <td>92</td>\n",
       "      <td>1</td>\n",
       "      <td>-1</td>\n",
       "      <td>0</td>\n",
       "      <td>...</td>\n",
       "      <td>0</td>\n",
       "      <td>0</td>\n",
       "      <td>0</td>\n",
       "      <td>1</td>\n",
       "      <td>0</td>\n",
       "      <td>0</td>\n",
       "      <td>0</td>\n",
       "      <td>0</td>\n",
       "      <td>0</td>\n",
       "      <td>1</td>\n",
       "    </tr>\n",
       "    <tr>\n",
       "      <th>4</th>\n",
       "      <td>1.0</td>\n",
       "      <td>1.0</td>\n",
       "      <td>33</td>\n",
       "      <td>False</td>\n",
       "      <td>False</td>\n",
       "      <td>False</td>\n",
       "      <td>198</td>\n",
       "      <td>1</td>\n",
       "      <td>-1</td>\n",
       "      <td>0</td>\n",
       "      <td>...</td>\n",
       "      <td>0</td>\n",
       "      <td>0</td>\n",
       "      <td>0</td>\n",
       "      <td>1</td>\n",
       "      <td>0</td>\n",
       "      <td>0</td>\n",
       "      <td>0</td>\n",
       "      <td>0</td>\n",
       "      <td>1</td>\n",
       "      <td>0</td>\n",
       "    </tr>\n",
       "  </tbody>\n",
       "</table>\n",
       "<p>5 rows × 25 columns</p>\n",
       "</div>"
      ],
      "text/plain": [
       "   number_transactions  total_amount_usd  age  default  housing   loan  \\\n",
       "0                  3.0            2143.0   58    False     True  False   \n",
       "1                  0.0               0.0   44    False     True  False   \n",
       "2                  2.0               2.0   33    False     True   True   \n",
       "3                  0.0               0.0   47    False     True  False   \n",
       "4                  1.0               1.0   33    False    False  False   \n",
       "\n",
       "   duration  campaign  pdays  previous  ...  education_primary  \\\n",
       "0       261         1     -1         0  ...                  0   \n",
       "1       151         1     -1         0  ...                  0   \n",
       "2        76         1     -1         0  ...                  0   \n",
       "3        92         1     -1         0  ...                  0   \n",
       "4       198         1     -1         0  ...                  0   \n",
       "\n",
       "   education_secondary  education_tertiary  contact_Unknown  contact_cellular  \\\n",
       "0                    0                   1                1                 0   \n",
       "1                    1                   0                1                 0   \n",
       "2                    1                   0                1                 0   \n",
       "3                    0                   0                1                 0   \n",
       "4                    0                   0                1                 0   \n",
       "\n",
       "   contact_telephone  device_Unknown  device_desktop  device_mobile  \\\n",
       "0                  0               0               0              1   \n",
       "1                  0               0               1              0   \n",
       "2                  0               0               0              1   \n",
       "3                  0               0               0              0   \n",
       "4                  0               0               0              1   \n",
       "\n",
       "   device_tablet  \n",
       "0              0  \n",
       "1              0  \n",
       "2              0  \n",
       "3              1  \n",
       "4              0  \n",
       "\n",
       "[5 rows x 25 columns]"
      ]
     },
     "execution_count": 298,
     "metadata": {},
     "output_type": "execute_result"
    }
   ],
   "source": [
    "# read the cleaned data, if we did not have time to go through all the steps\n",
    "\n",
    "users_data = pd.read_pickle(\"../../data/users_data_cleaned_w_encoding.pkl\")\n",
    "\n",
    "users_data.head()"
   ]
  },
  {
   "cell_type": "code",
   "execution_count": 299,
   "id": "bd1c48d2",
   "metadata": {},
   "outputs": [
    {
     "data": {
      "text/plain": [
       "(44828, 25)"
      ]
     },
     "execution_count": 299,
     "metadata": {},
     "output_type": "execute_result"
    }
   ],
   "source": [
    "# check the shape of the data\n",
    "\n",
    "users_data.shape"
   ]
  },
  {
   "cell_type": "code",
   "execution_count": 300,
   "id": "5bf7bb8c",
   "metadata": {},
   "outputs": [
    {
     "name": "stdout",
     "output_type": "stream",
     "text": [
      "<class 'pandas.core.frame.DataFrame'>\n",
      "Int64Index: 44828 entries, 0 to 45215\n",
      "Data columns (total 25 columns):\n",
      " #   Column               Non-Null Count  Dtype  \n",
      "---  ------               --------------  -----  \n",
      " 0   number_transactions  44828 non-null  float64\n",
      " 1   total_amount_usd     44828 non-null  float64\n",
      " 2   age                  44828 non-null  int64  \n",
      " 3   default              44828 non-null  bool   \n",
      " 4   housing              44828 non-null  bool   \n",
      " 5   loan                 44828 non-null  bool   \n",
      " 6   duration             44828 non-null  int64  \n",
      " 7   campaign             44828 non-null  int64  \n",
      " 8   pdays                44828 non-null  int64  \n",
      " 9   previous             44828 non-null  int64  \n",
      " 10  term_deposit         44828 non-null  bool   \n",
      " 11  marital_divorced     44828 non-null  uint8  \n",
      " 12  marital_married      44828 non-null  uint8  \n",
      " 13  marital_single       44828 non-null  uint8  \n",
      " 14  education_Unknown    44828 non-null  uint8  \n",
      " 15  education_primary    44828 non-null  uint8  \n",
      " 16  education_secondary  44828 non-null  uint8  \n",
      " 17  education_tertiary   44828 non-null  uint8  \n",
      " 18  contact_Unknown      44828 non-null  uint8  \n",
      " 19  contact_cellular     44828 non-null  uint8  \n",
      " 20  contact_telephone    44828 non-null  uint8  \n",
      " 21  device_Unknown       44828 non-null  uint8  \n",
      " 22  device_desktop       44828 non-null  uint8  \n",
      " 23  device_mobile        44828 non-null  uint8  \n",
      " 24  device_tablet        44828 non-null  uint8  \n",
      "dtypes: bool(4), float64(2), int64(5), uint8(14)\n",
      "memory usage: 3.5 MB\n"
     ]
    }
   ],
   "source": [
    "# check all numerical\n",
    "\n",
    "users_data.info()"
   ]
  },
  {
   "cell_type": "code",
   "execution_count": 302,
   "id": "048a2ca5",
   "metadata": {},
   "outputs": [
    {
     "data": {
      "image/png": "[encoded data removed]",
      "text/plain": [
       "<Figure size 432x288 with 1 Axes>"
      ]
     },
     "metadata": {
      "needs_background": "light"
     },
     "output_type": "display_data"
    }
   ],
   "source": [
    "# Define the target, our y\n",
    "# lets say we want to predict the total_amount_usd\n",
    "\n",
    "users_data.total_amount_usd.hist()\n",
    "plt.title(\"Distribution of the total_amount_usd\");\n",
    "\n",
    "# Distribution of variable is skewed, we could also transform the variable in next iteraions\n"
   ]
  },
  {
   "cell_type": "code",
   "execution_count": 303,
   "id": "dcf9ecab",
   "metadata": {},
   "outputs": [
    {
     "name": "stderr",
     "output_type": "stream",
     "text": [
      "/Users/shaq/.pyenv/versions/3.8.10/lib/python3.8/site-packages/seaborn/_decorators.py:36: FutureWarning: Pass the following variable as a keyword arg: x. From version 0.12, the only valid positional argument will be `data`, and passing other arguments without an explicit keyword will result in an error or misinterpretation.\n",
      "  warnings.warn(\n"
     ]
    },
    {
     "data": {
      "image/png": "[encoded data removed]",
      "text/plain": [
       "<Figure size 432x288 with 1 Axes>"
      ]
     },
     "metadata": {
      "needs_background": "light"
     },
     "output_type": "display_data"
    }
   ],
   "source": [
    "sns.boxplot(users_data.total_amount_usd);\n",
    "\n",
    "# Outliers exist, in next iterations we may want to remove them"
   ]
  },
  {
   "cell_type": "code",
   "execution_count": 305,
   "id": "31f23f23",
   "metadata": {},
   "outputs": [],
   "source": [
    "# Step 1. Define the target and features\n",
    "# A supervised machine learning algorithm requires both - uses historical data to uncover relationships between other features of your dataset and the target.\n",
    "\n",
    "target_data = users_data.total_amount_usd\n",
    "features = users_data.drop([\"total_amount_usd\"], axis = 1)\n"
   ]
  },
  {
   "cell_type": "code",
   "execution_count": 306,
   "id": "459c7c0c",
   "metadata": {},
   "outputs": [],
   "source": [
    "# Step 2. Split the data into a training and test set\n",
    "# The training data is the data we use to train the machine learning algorithm\n",
    "# the test set is used to evaluate the prediction\n",
    "\n",
    "# using this handy function from scikit-learm to split the data into a training and test dataset\n",
    "# we can adjust the test size to our needs, but it's best practise to train the model on 70 - 80% of the data\n",
    "\n",
    "X_train, X_test, y_train, y_test = train_test_split(\n",
    "                                                features, \n",
    "                                                target_data,\n",
    "                                                test_size = 0.2, \n",
    "                                                random_state = 42)\n"
   ]
  },
  {
   "cell_type": "code",
   "execution_count": 307,
   "id": "7ea8fefc",
   "metadata": {},
   "outputs": [
    {
     "name": "stdout",
     "output_type": "stream",
     "text": [
      "Training Data\n",
      "(35862, 24)\n",
      "(35862,)\n"
     ]
    }
   ],
   "source": [
    "# print the shape of the training data\n",
    "\n",
    "print(\"Training Data\")\n",
    "print(X_train.shape)\n",
    "print(y_train.shape)"
   ]
  },
  {
   "cell_type": "code",
   "execution_count": 308,
   "id": "e5e0dcbf",
   "metadata": {},
   "outputs": [
    {
     "name": "stdout",
     "output_type": "stream",
     "text": [
      "\n",
      "Test Data\n",
      "(8966, 24)\n",
      "(8966,)\n"
     ]
    }
   ],
   "source": [
    "# print the shape of the test data \n",
    "\n",
    "print(\"\\nTest Data\")\n",
    "print(X_test.shape)\n",
    "print(y_test.shape)"
   ]
  },
  {
   "cell_type": "code",
   "execution_count": 309,
   "id": "a58d403a",
   "metadata": {},
   "outputs": [],
   "source": [
    "# Step 3. Import the Logistic Regression model from sklearn\n",
    "\n",
    "lr = LinearRegression()"
   ]
  },
  {
   "cell_type": "code",
   "execution_count": 310,
   "id": "0c05593d",
   "metadata": {},
   "outputs": [
    {
     "data": {
      "text/plain": [
       "LinearRegression()"
      ]
     },
     "execution_count": 310,
     "metadata": {},
     "output_type": "execute_result"
    }
   ],
   "source": [
    "# Step 4. Fit the model on the scaled training data\n",
    "\n",
    "lr.fit(X_train, y_train) \n",
    "\n",
    "# This is your machine learning model!"
   ]
  },
  {
   "cell_type": "code",
   "execution_count": 311,
   "id": "3d7ef612",
   "metadata": {},
   "outputs": [],
   "source": [
    "# Step 5. Evaluate how well the model predicts on unseen data\n",
    "\n",
    "y_pred = lr.predict(X_test) \n"
   ]
  },
  {
   "cell_type": "code",
   "execution_count": 312,
   "id": "38dd6db1",
   "metadata": {},
   "outputs": [
    {
     "name": "stdout",
     "output_type": "stream",
     "text": [
      "first five predicted total amounts: [1339.57791924 1626.1949582  1387.96292225 1197.65770369 1049.41818258]\n",
      "first five actual total amounts: [567.0, 2820.0, 306.0, 120.0, 111.0]\n"
     ]
    }
   ],
   "source": [
    "print(\"first five predicted total amounts:\", y_pred[0:5])\n",
    "print(\"first five actual total amounts:\", list(y_test[0:5]))"
   ]
  },
  {
   "cell_type": "code",
   "execution_count": 313,
   "id": "dd7b719f",
   "metadata": {},
   "outputs": [
    {
     "data": {
      "text/plain": [
       "0.02541281412601626"
      ]
     },
     "execution_count": 313,
     "metadata": {},
     "output_type": "execute_result"
    }
   ],
   "source": [
    "# We will use r2 to evaluating the model performance.\n",
    "\n",
    "r2_score(y_test, y_pred)\n",
    "\n",
    "# R^2 (coefficient of determination) regression score function.\n",
    "# Best possible score is 1.0 and it can be negative (because the model can be arbitrarily worse). \n",
    "\n",
    "# Pretty close to 0. Lets see over the next few weeks we can improve the score.\n"
   ]
  }
 ],
 "metadata": {
  "kernelspec": {
   "display_name": "Python 3",
   "language": "python",
   "name": "python3"
  },
  "language_info": {
   "codemirror_mode": {
    "name": "ipython",
    "version": 3
   },
   "file_extension": ".py",
   "mimetype": "text/x-python",
   "name": "python",
   "nbconvert_exporter": "python",
   "pygments_lexer": "ipython3",
   "version": "3.8.10"
  }
 },
 "nbformat": 4,
 "nbformat_minor": 5
}
